{
  "nbformat": 4,
  "nbformat_minor": 0,
  "metadata": {
    "colab": {
      "provenance": [],
      "gpuType": "T4"
    },
    "kernelspec": {
      "name": "python3",
      "display_name": "Python 3"
    },
    "language_info": {
      "name": "python"
    },
    "accelerator": "GPU",
    "widgets": {
      "application/vnd.jupyter.widget-state+json": {
        "54b3effba2ca40baa5690dbf1b19c6a5": {
          "model_module": "@jupyter-widgets/controls",
          "model_name": "HBoxModel",
          "model_module_version": "1.5.0",
          "state": {
            "_dom_classes": [],
            "_model_module": "@jupyter-widgets/controls",
            "_model_module_version": "1.5.0",
            "_model_name": "HBoxModel",
            "_view_count": null,
            "_view_module": "@jupyter-widgets/controls",
            "_view_module_version": "1.5.0",
            "_view_name": "HBoxView",
            "box_style": "",
            "children": [
              "IPY_MODEL_f80cf15c8da54231b7d37d703934be06",
              "IPY_MODEL_64efe0e5bbbb4e51b1f1cf5c1e7d5aeb",
              "IPY_MODEL_f4e5360744994d2694a24136f7d502d2"
            ],
            "layout": "IPY_MODEL_8a7aa54fe35c41d09816f3df890d1824"
          }
        },
        "f80cf15c8da54231b7d37d703934be06": {
          "model_module": "@jupyter-widgets/controls",
          "model_name": "HTMLModel",
          "model_module_version": "1.5.0",
          "state": {
            "_dom_classes": [],
            "_model_module": "@jupyter-widgets/controls",
            "_model_module_version": "1.5.0",
            "_model_name": "HTMLModel",
            "_view_count": null,
            "_view_module": "@jupyter-widgets/controls",
            "_view_module_version": "1.5.0",
            "_view_name": "HTMLView",
            "description": "",
            "description_tooltip": null,
            "layout": "IPY_MODEL_9fdff39218a9433c8d3a25373e1433f6",
            "placeholder": "​",
            "style": "IPY_MODEL_9c1e3b84f4dc473799d5753ddff25c24",
            "value": "config.json: 100%"
          }
        },
        "64efe0e5bbbb4e51b1f1cf5c1e7d5aeb": {
          "model_module": "@jupyter-widgets/controls",
          "model_name": "FloatProgressModel",
          "model_module_version": "1.5.0",
          "state": {
            "_dom_classes": [],
            "_model_module": "@jupyter-widgets/controls",
            "_model_module_version": "1.5.0",
            "_model_name": "FloatProgressModel",
            "_view_count": null,
            "_view_module": "@jupyter-widgets/controls",
            "_view_module_version": "1.5.0",
            "_view_name": "ProgressView",
            "bar_style": "success",
            "description": "",
            "description_tooltip": null,
            "layout": "IPY_MODEL_d2e6aaffb3574048ba3195c4c8fad119",
            "max": 286,
            "min": 0,
            "orientation": "horizontal",
            "style": "IPY_MODEL_e1d8c06966944d1da8a561a30d0d0c4d",
            "value": 286
          }
        },
        "f4e5360744994d2694a24136f7d502d2": {
          "model_module": "@jupyter-widgets/controls",
          "model_name": "HTMLModel",
          "model_module_version": "1.5.0",
          "state": {
            "_dom_classes": [],
            "_model_module": "@jupyter-widgets/controls",
            "_model_module_version": "1.5.0",
            "_model_name": "HTMLModel",
            "_view_count": null,
            "_view_module": "@jupyter-widgets/controls",
            "_view_module_version": "1.5.0",
            "_view_name": "HTMLView",
            "description": "",
            "description_tooltip": null,
            "layout": "IPY_MODEL_8aa1204f4d0f4df19bb2c84141382ce1",
            "placeholder": "​",
            "style": "IPY_MODEL_7d6b650b561d4911bfda586561c6cca4",
            "value": " 286/286 [00:00&lt;00:00, 17.8kB/s]"
          }
        },
        "8a7aa54fe35c41d09816f3df890d1824": {
          "model_module": "@jupyter-widgets/base",
          "model_name": "LayoutModel",
          "model_module_version": "1.2.0",
          "state": {
            "_model_module": "@jupyter-widgets/base",
            "_model_module_version": "1.2.0",
            "_model_name": "LayoutModel",
            "_view_count": null,
            "_view_module": "@jupyter-widgets/base",
            "_view_module_version": "1.2.0",
            "_view_name": "LayoutView",
            "align_content": null,
            "align_items": null,
            "align_self": null,
            "border": null,
            "bottom": null,
            "display": null,
            "flex": null,
            "flex_flow": null,
            "grid_area": null,
            "grid_auto_columns": null,
            "grid_auto_flow": null,
            "grid_auto_rows": null,
            "grid_column": null,
            "grid_gap": null,
            "grid_row": null,
            "grid_template_areas": null,
            "grid_template_columns": null,
            "grid_template_rows": null,
            "height": null,
            "justify_content": null,
            "justify_items": null,
            "left": null,
            "margin": null,
            "max_height": null,
            "max_width": null,
            "min_height": null,
            "min_width": null,
            "object_fit": null,
            "object_position": null,
            "order": null,
            "overflow": null,
            "overflow_x": null,
            "overflow_y": null,
            "padding": null,
            "right": null,
            "top": null,
            "visibility": null,
            "width": null
          }
        },
        "9fdff39218a9433c8d3a25373e1433f6": {
          "model_module": "@jupyter-widgets/base",
          "model_name": "LayoutModel",
          "model_module_version": "1.2.0",
          "state": {
            "_model_module": "@jupyter-widgets/base",
            "_model_module_version": "1.2.0",
            "_model_name": "LayoutModel",
            "_view_count": null,
            "_view_module": "@jupyter-widgets/base",
            "_view_module_version": "1.2.0",
            "_view_name": "LayoutView",
            "align_content": null,
            "align_items": null,
            "align_self": null,
            "border": null,
            "bottom": null,
            "display": null,
            "flex": null,
            "flex_flow": null,
            "grid_area": null,
            "grid_auto_columns": null,
            "grid_auto_flow": null,
            "grid_auto_rows": null,
            "grid_column": null,
            "grid_gap": null,
            "grid_row": null,
            "grid_template_areas": null,
            "grid_template_columns": null,
            "grid_template_rows": null,
            "height": null,
            "justify_content": null,
            "justify_items": null,
            "left": null,
            "margin": null,
            "max_height": null,
            "max_width": null,
            "min_height": null,
            "min_width": null,
            "object_fit": null,
            "object_position": null,
            "order": null,
            "overflow": null,
            "overflow_x": null,
            "overflow_y": null,
            "padding": null,
            "right": null,
            "top": null,
            "visibility": null,
            "width": null
          }
        },
        "9c1e3b84f4dc473799d5753ddff25c24": {
          "model_module": "@jupyter-widgets/controls",
          "model_name": "DescriptionStyleModel",
          "model_module_version": "1.5.0",
          "state": {
            "_model_module": "@jupyter-widgets/controls",
            "_model_module_version": "1.5.0",
            "_model_name": "DescriptionStyleModel",
            "_view_count": null,
            "_view_module": "@jupyter-widgets/base",
            "_view_module_version": "1.2.0",
            "_view_name": "StyleView",
            "description_width": ""
          }
        },
        "d2e6aaffb3574048ba3195c4c8fad119": {
          "model_module": "@jupyter-widgets/base",
          "model_name": "LayoutModel",
          "model_module_version": "1.2.0",
          "state": {
            "_model_module": "@jupyter-widgets/base",
            "_model_module_version": "1.2.0",
            "_model_name": "LayoutModel",
            "_view_count": null,
            "_view_module": "@jupyter-widgets/base",
            "_view_module_version": "1.2.0",
            "_view_name": "LayoutView",
            "align_content": null,
            "align_items": null,
            "align_self": null,
            "border": null,
            "bottom": null,
            "display": null,
            "flex": null,
            "flex_flow": null,
            "grid_area": null,
            "grid_auto_columns": null,
            "grid_auto_flow": null,
            "grid_auto_rows": null,
            "grid_column": null,
            "grid_gap": null,
            "grid_row": null,
            "grid_template_areas": null,
            "grid_template_columns": null,
            "grid_template_rows": null,
            "height": null,
            "justify_content": null,
            "justify_items": null,
            "left": null,
            "margin": null,
            "max_height": null,
            "max_width": null,
            "min_height": null,
            "min_width": null,
            "object_fit": null,
            "object_position": null,
            "order": null,
            "overflow": null,
            "overflow_x": null,
            "overflow_y": null,
            "padding": null,
            "right": null,
            "top": null,
            "visibility": null,
            "width": null
          }
        },
        "e1d8c06966944d1da8a561a30d0d0c4d": {
          "model_module": "@jupyter-widgets/controls",
          "model_name": "ProgressStyleModel",
          "model_module_version": "1.5.0",
          "state": {
            "_model_module": "@jupyter-widgets/controls",
            "_model_module_version": "1.5.0",
            "_model_name": "ProgressStyleModel",
            "_view_count": null,
            "_view_module": "@jupyter-widgets/base",
            "_view_module_version": "1.2.0",
            "_view_name": "StyleView",
            "bar_color": null,
            "description_width": ""
          }
        },
        "8aa1204f4d0f4df19bb2c84141382ce1": {
          "model_module": "@jupyter-widgets/base",
          "model_name": "LayoutModel",
          "model_module_version": "1.2.0",
          "state": {
            "_model_module": "@jupyter-widgets/base",
            "_model_module_version": "1.2.0",
            "_model_name": "LayoutModel",
            "_view_count": null,
            "_view_module": "@jupyter-widgets/base",
            "_view_module_version": "1.2.0",
            "_view_name": "LayoutView",
            "align_content": null,
            "align_items": null,
            "align_self": null,
            "border": null,
            "bottom": null,
            "display": null,
            "flex": null,
            "flex_flow": null,
            "grid_area": null,
            "grid_auto_columns": null,
            "grid_auto_flow": null,
            "grid_auto_rows": null,
            "grid_column": null,
            "grid_gap": null,
            "grid_row": null,
            "grid_template_areas": null,
            "grid_template_columns": null,
            "grid_template_rows": null,
            "height": null,
            "justify_content": null,
            "justify_items": null,
            "left": null,
            "margin": null,
            "max_height": null,
            "max_width": null,
            "min_height": null,
            "min_width": null,
            "object_fit": null,
            "object_position": null,
            "order": null,
            "overflow": null,
            "overflow_x": null,
            "overflow_y": null,
            "padding": null,
            "right": null,
            "top": null,
            "visibility": null,
            "width": null
          }
        },
        "7d6b650b561d4911bfda586561c6cca4": {
          "model_module": "@jupyter-widgets/controls",
          "model_name": "DescriptionStyleModel",
          "model_module_version": "1.5.0",
          "state": {
            "_model_module": "@jupyter-widgets/controls",
            "_model_module_version": "1.5.0",
            "_model_name": "DescriptionStyleModel",
            "_view_count": null,
            "_view_module": "@jupyter-widgets/base",
            "_view_module_version": "1.2.0",
            "_view_name": "StyleView",
            "description_width": ""
          }
        },
        "e9f45ec7fbf0484b864b60f69ca78c84": {
          "model_module": "@jupyter-widgets/controls",
          "model_name": "HBoxModel",
          "model_module_version": "1.5.0",
          "state": {
            "_dom_classes": [],
            "_model_module": "@jupyter-widgets/controls",
            "_model_module_version": "1.5.0",
            "_model_name": "HBoxModel",
            "_view_count": null,
            "_view_module": "@jupyter-widgets/controls",
            "_view_module_version": "1.5.0",
            "_view_name": "HBoxView",
            "box_style": "",
            "children": [
              "IPY_MODEL_005d9bd4c96e425aae5ff93fe4f2b5fb",
              "IPY_MODEL_305ac62cda9844339eb3760bd68cb40a",
              "IPY_MODEL_710762c5cbb74eef8caae316dc97c98e"
            ],
            "layout": "IPY_MODEL_4baadb9634224161b28fd3dc99c37a85"
          }
        },
        "005d9bd4c96e425aae5ff93fe4f2b5fb": {
          "model_module": "@jupyter-widgets/controls",
          "model_name": "HTMLModel",
          "model_module_version": "1.5.0",
          "state": {
            "_dom_classes": [],
            "_model_module": "@jupyter-widgets/controls",
            "_model_module_version": "1.5.0",
            "_model_name": "HTMLModel",
            "_view_count": null,
            "_view_module": "@jupyter-widgets/controls",
            "_view_module_version": "1.5.0",
            "_view_name": "HTMLView",
            "description": "",
            "description_tooltip": null,
            "layout": "IPY_MODEL_66dad055196640b0ab8b0617c4e9332c",
            "placeholder": "​",
            "style": "IPY_MODEL_84d997fe5a37443c8a38b106a0157065",
            "value": "pytorch_model.bin: 100%"
          }
        },
        "305ac62cda9844339eb3760bd68cb40a": {
          "model_module": "@jupyter-widgets/controls",
          "model_name": "FloatProgressModel",
          "model_module_version": "1.5.0",
          "state": {
            "_dom_classes": [],
            "_model_module": "@jupyter-widgets/controls",
            "_model_module_version": "1.5.0",
            "_model_name": "FloatProgressModel",
            "_view_count": null,
            "_view_module": "@jupyter-widgets/controls",
            "_view_module_version": "1.5.0",
            "_view_name": "ProgressView",
            "bar_style": "success",
            "description": "",
            "description_tooltip": null,
            "layout": "IPY_MODEL_3dcd0c7d8f3144f8815e6b72833c99c8",
            "max": 116270890,
            "min": 0,
            "orientation": "horizontal",
            "style": "IPY_MODEL_e5a3d7c179a84de7846f7ce11a59ffbf",
            "value": 116270890
          }
        },
        "710762c5cbb74eef8caae316dc97c98e": {
          "model_module": "@jupyter-widgets/controls",
          "model_name": "HTMLModel",
          "model_module_version": "1.5.0",
          "state": {
            "_dom_classes": [],
            "_model_module": "@jupyter-widgets/controls",
            "_model_module_version": "1.5.0",
            "_model_name": "HTMLModel",
            "_view_count": null,
            "_view_module": "@jupyter-widgets/controls",
            "_view_module_version": "1.5.0",
            "_view_name": "HTMLView",
            "description": "",
            "description_tooltip": null,
            "layout": "IPY_MODEL_c539d041ad3543c2a4c1933e6a7d4279",
            "placeholder": "​",
            "style": "IPY_MODEL_52399c86f9fe486ca6455173d0c91df6",
            "value": " 116M/116M [00:00&lt;00:00, 209MB/s]"
          }
        },
        "4baadb9634224161b28fd3dc99c37a85": {
          "model_module": "@jupyter-widgets/base",
          "model_name": "LayoutModel",
          "model_module_version": "1.2.0",
          "state": {
            "_model_module": "@jupyter-widgets/base",
            "_model_module_version": "1.2.0",
            "_model_name": "LayoutModel",
            "_view_count": null,
            "_view_module": "@jupyter-widgets/base",
            "_view_module_version": "1.2.0",
            "_view_name": "LayoutView",
            "align_content": null,
            "align_items": null,
            "align_self": null,
            "border": null,
            "bottom": null,
            "display": null,
            "flex": null,
            "flex_flow": null,
            "grid_area": null,
            "grid_auto_columns": null,
            "grid_auto_flow": null,
            "grid_auto_rows": null,
            "grid_column": null,
            "grid_gap": null,
            "grid_row": null,
            "grid_template_areas": null,
            "grid_template_columns": null,
            "grid_template_rows": null,
            "height": null,
            "justify_content": null,
            "justify_items": null,
            "left": null,
            "margin": null,
            "max_height": null,
            "max_width": null,
            "min_height": null,
            "min_width": null,
            "object_fit": null,
            "object_position": null,
            "order": null,
            "overflow": null,
            "overflow_x": null,
            "overflow_y": null,
            "padding": null,
            "right": null,
            "top": null,
            "visibility": null,
            "width": null
          }
        },
        "66dad055196640b0ab8b0617c4e9332c": {
          "model_module": "@jupyter-widgets/base",
          "model_name": "LayoutModel",
          "model_module_version": "1.2.0",
          "state": {
            "_model_module": "@jupyter-widgets/base",
            "_model_module_version": "1.2.0",
            "_model_name": "LayoutModel",
            "_view_count": null,
            "_view_module": "@jupyter-widgets/base",
            "_view_module_version": "1.2.0",
            "_view_name": "LayoutView",
            "align_content": null,
            "align_items": null,
            "align_self": null,
            "border": null,
            "bottom": null,
            "display": null,
            "flex": null,
            "flex_flow": null,
            "grid_area": null,
            "grid_auto_columns": null,
            "grid_auto_flow": null,
            "grid_auto_rows": null,
            "grid_column": null,
            "grid_gap": null,
            "grid_row": null,
            "grid_template_areas": null,
            "grid_template_columns": null,
            "grid_template_rows": null,
            "height": null,
            "justify_content": null,
            "justify_items": null,
            "left": null,
            "margin": null,
            "max_height": null,
            "max_width": null,
            "min_height": null,
            "min_width": null,
            "object_fit": null,
            "object_position": null,
            "order": null,
            "overflow": null,
            "overflow_x": null,
            "overflow_y": null,
            "padding": null,
            "right": null,
            "top": null,
            "visibility": null,
            "width": null
          }
        },
        "84d997fe5a37443c8a38b106a0157065": {
          "model_module": "@jupyter-widgets/controls",
          "model_name": "DescriptionStyleModel",
          "model_module_version": "1.5.0",
          "state": {
            "_model_module": "@jupyter-widgets/controls",
            "_model_module_version": "1.5.0",
            "_model_name": "DescriptionStyleModel",
            "_view_count": null,
            "_view_module": "@jupyter-widgets/base",
            "_view_module_version": "1.2.0",
            "_view_name": "StyleView",
            "description_width": ""
          }
        },
        "3dcd0c7d8f3144f8815e6b72833c99c8": {
          "model_module": "@jupyter-widgets/base",
          "model_name": "LayoutModel",
          "model_module_version": "1.2.0",
          "state": {
            "_model_module": "@jupyter-widgets/base",
            "_model_module_version": "1.2.0",
            "_model_name": "LayoutModel",
            "_view_count": null,
            "_view_module": "@jupyter-widgets/base",
            "_view_module_version": "1.2.0",
            "_view_name": "LayoutView",
            "align_content": null,
            "align_items": null,
            "align_self": null,
            "border": null,
            "bottom": null,
            "display": null,
            "flex": null,
            "flex_flow": null,
            "grid_area": null,
            "grid_auto_columns": null,
            "grid_auto_flow": null,
            "grid_auto_rows": null,
            "grid_column": null,
            "grid_gap": null,
            "grid_row": null,
            "grid_template_areas": null,
            "grid_template_columns": null,
            "grid_template_rows": null,
            "height": null,
            "justify_content": null,
            "justify_items": null,
            "left": null,
            "margin": null,
            "max_height": null,
            "max_width": null,
            "min_height": null,
            "min_width": null,
            "object_fit": null,
            "object_position": null,
            "order": null,
            "overflow": null,
            "overflow_x": null,
            "overflow_y": null,
            "padding": null,
            "right": null,
            "top": null,
            "visibility": null,
            "width": null
          }
        },
        "e5a3d7c179a84de7846f7ce11a59ffbf": {
          "model_module": "@jupyter-widgets/controls",
          "model_name": "ProgressStyleModel",
          "model_module_version": "1.5.0",
          "state": {
            "_model_module": "@jupyter-widgets/controls",
            "_model_module_version": "1.5.0",
            "_model_name": "ProgressStyleModel",
            "_view_count": null,
            "_view_module": "@jupyter-widgets/base",
            "_view_module_version": "1.2.0",
            "_view_name": "StyleView",
            "bar_color": null,
            "description_width": ""
          }
        },
        "c539d041ad3543c2a4c1933e6a7d4279": {
          "model_module": "@jupyter-widgets/base",
          "model_name": "LayoutModel",
          "model_module_version": "1.2.0",
          "state": {
            "_model_module": "@jupyter-widgets/base",
            "_model_module_version": "1.2.0",
            "_model_name": "LayoutModel",
            "_view_count": null,
            "_view_module": "@jupyter-widgets/base",
            "_view_module_version": "1.2.0",
            "_view_name": "LayoutView",
            "align_content": null,
            "align_items": null,
            "align_self": null,
            "border": null,
            "bottom": null,
            "display": null,
            "flex": null,
            "flex_flow": null,
            "grid_area": null,
            "grid_auto_columns": null,
            "grid_auto_flow": null,
            "grid_auto_rows": null,
            "grid_column": null,
            "grid_gap": null,
            "grid_row": null,
            "grid_template_areas": null,
            "grid_template_columns": null,
            "grid_template_rows": null,
            "height": null,
            "justify_content": null,
            "justify_items": null,
            "left": null,
            "margin": null,
            "max_height": null,
            "max_width": null,
            "min_height": null,
            "min_width": null,
            "object_fit": null,
            "object_position": null,
            "order": null,
            "overflow": null,
            "overflow_x": null,
            "overflow_y": null,
            "padding": null,
            "right": null,
            "top": null,
            "visibility": null,
            "width": null
          }
        },
        "52399c86f9fe486ca6455173d0c91df6": {
          "model_module": "@jupyter-widgets/controls",
          "model_name": "DescriptionStyleModel",
          "model_module_version": "1.5.0",
          "state": {
            "_model_module": "@jupyter-widgets/controls",
            "_model_module_version": "1.5.0",
            "_model_name": "DescriptionStyleModel",
            "_view_count": null,
            "_view_module": "@jupyter-widgets/base",
            "_view_module_version": "1.2.0",
            "_view_name": "StyleView",
            "description_width": ""
          }
        }
      }
    }
  },
  "cells": [
    {
      "cell_type": "code",
      "execution_count": null,
      "metadata": {
        "id": "c-y6aHFHsGkL"
      },
      "outputs": [],
      "source": [
        "import pandas as pd\n",
        "import torch\n",
        "\n",
        "#grab data from working directory\n",
        "main_data = pd.read_csv('data.csv')\n",
        "training_data = pd.read_csv('training_data.csv')\n",
        "validation_data = pd.read_csv('validation_data.csv')"
      ]
    },
    {
      "cell_type": "code",
      "source": [
        "dtype = torch.float\n",
        "ltype = torch.long\n",
        "\n",
        "if torch.cuda.is_available():\n",
        "  device = torch.device('cuda:0')\n",
        "else:\n",
        "  device = torch.device('cpu')\n",
        "\n",
        "# Constant to control how frequently we print train loss\n",
        "\n",
        "print('using device:', device)"
      ],
      "metadata": {
        "colab": {
          "base_uri": "https://localhost:8080/"
        },
        "id": "TN9AsqrMTuj8",
        "outputId": "36f15768-6ffc-4e86-b55a-42dc484e0af9"
      },
      "execution_count": null,
      "outputs": [
        {
          "output_type": "stream",
          "name": "stdout",
          "text": [
            "using device: cuda:0\n"
          ]
        }
      ]
    },
    {
      "cell_type": "code",
      "source": [
        "# prompt: write 2 data preprocessing functions\n",
        "# the first one filters out all rows that have an empty 'problem_tags' column or have the problem_tags column include \"*specialproblem\". it also filters out all rows that have empty problem_statement columns\n",
        "# the second function will split the problem_tags column and split it into two columns. the first resulting column will just be the original problem_tags column and the second resulting column will be rating.\n",
        "# the problem tags column is originally a comma seperated list and should include some value that looks like *2400 or *2300 or *900, these values are ratings. there should be only one of them, take the rating value and put it in the rating column. if there is a problem with no rating value in its 'problem_tags' column it should be filtered out\n",
        "\n",
        "def preprocess_data_1(df):\n",
        "  \"\"\"\n",
        "  Filters out rows with empty 'problem_tags' or 'problem_statement' columns,\n",
        "  and rows where 'problem_tags' contains '*specialproblem'.\n",
        "  \"\"\"\n",
        "  df = df.dropna(subset=['problem_tags', 'problem_statement'])\n",
        "  df = df[~df['problem_tags'].str.contains(r\"\\*specialproblem\", na=False)]\n",
        "  return df\n",
        "\n",
        "def preprocess_data_2(df):\n",
        "  \"\"\"\n",
        "  Splits the 'problem_tags' column into two columns: 'problem_tags' (original)\n",
        "  and 'rating'. Extracts the rating value from the 'problem_tags' column if\n",
        "  it exists, otherwise filters out the row.\n",
        "  \"\"\"\n",
        "  def extract_rating(tags):\n",
        "    if isinstance(tags, str):\n",
        "      for tag in tags.split(','):\n",
        "        if '*' in tag and tag.replace('*', '').isdigit():\n",
        "          return int(tag.replace('*', ''))\n",
        "    return None\n",
        "\n",
        "  df.loc[:, 'rating'] = df['problem_tags'].apply(extract_rating)\n",
        "\n",
        "  #drop rows with no rating\n",
        "  df = df.dropna(subset=['rating'])\n",
        "\n",
        "  for i in range(len(df)):\n",
        "    good_tags = []\n",
        "    for tag in df.iloc[i]['problem_tags'].split(','):\n",
        "      if '*' not in tag and tag.split():\n",
        "        good_tags.append(tag)\n",
        "    df.loc[df.index[i], 'problem_tags'] = ','.join(good_tags)\n",
        "\n",
        "  #drop problems with empty string for tags\n",
        "  df = df[df['problem_tags'] != '']\n",
        "\n",
        "  return df\n",
        "\n",
        "main_data = preprocess_data_1(main_data)\n",
        "main_data = preprocess_data_2(main_data)\n",
        "training_data = preprocess_data_1(training_data)\n",
        "training_data = preprocess_data_2(training_data)\n",
        "validation_data = preprocess_data_1(validation_data)\n",
        "validation_data = preprocess_data_2(validation_data)"
      ],
      "metadata": {
        "id": "_m12BBOqyqfa"
      },
      "execution_count": null,
      "outputs": []
    },
    {
      "cell_type": "markdown",
      "source": [],
      "metadata": {
        "id": "Y9xqRg25sVKR"
      }
    },
    {
      "cell_type": "code",
      "source": [
        "\n",
        "n = 5  # Hyperparameter for the number of most frequent tags\n",
        "\n",
        "all_tags = []\n",
        "for tags in main_data['problem_tags'].dropna():\n",
        "    all_tags.extend(tags.split(','))\n",
        "\n",
        "from collections import Counter\n",
        "\n",
        "tag_counts = Counter(all_tags)\n",
        "most_frequent_tags = set([tag for tag, count in tag_counts.most_common(n)])\n",
        "index_to_tag = {i: tag for i, tag in enumerate(most_frequent_tags)}\n",
        "tag_to_index = {tag: i for i, tag in index_to_tag.items()}\n",
        "print(f\"The {n} most frequent tags are: {most_frequent_tags}\")"
      ],
      "metadata": {
        "colab": {
          "base_uri": "https://localhost:8080/"
        },
        "id": "2D-sNGFsunvb",
        "outputId": "55cb7d49-f3fc-4c72-fb68-34f6059b7b27"
      },
      "execution_count": null,
      "outputs": [
        {
          "output_type": "stream",
          "name": "stdout",
          "text": [
            "The 5 most frequent tags are: {'datastructures', 'implementation', 'greedy', 'math', 'dp'}\n"
          ]
        }
      ]
    },
    {
      "cell_type": "code",
      "source": [
        "# prompt: what percent of problems use a tag found in the n most common ?\n",
        "\n",
        "problems_with_top_n_tags = 0\n",
        "total_problems = len(main_data)\n",
        "\n",
        "for tags in main_data['problem_tags'].dropna():\n",
        "  if isinstance(tags, str):\n",
        "    for tag in tags.split(','):\n",
        "      if tag in most_frequent_tags:\n",
        "        problems_with_top_n_tags += 1\n",
        "        break  # Only count the problem once if it has at least one top-n tag\n",
        "\n",
        "percentage = (problems_with_top_n_tags / total_problems) * 100\n",
        "print(f\"Percentage of problems with at least one of the top {n} tags: {percentage:.2f}%\")"
      ],
      "metadata": {
        "colab": {
          "base_uri": "https://localhost:8080/"
        },
        "id": "9zzxX6lq1mJa",
        "outputId": "416dccee-51f1-4c66-de20-7f384ff47e27"
      },
      "execution_count": null,
      "outputs": [
        {
          "output_type": "stream",
          "name": "stdout",
          "text": [
            "Percentage of problems with at least one of the top 5 tags: 82.12%\n"
          ]
        }
      ]
    },
    {
      "cell_type": "code",
      "source": [
        "# prompt: make a histogram for the ratings a bar graph for the frequency of each tag in the top n\n",
        "\n",
        "import matplotlib.pyplot as plt\n",
        "from collections import Counter\n",
        "\n",
        "# Assuming 'main_data' and 'most_frequent_tags' are defined as in your previous code\n",
        "\n",
        "# Histogram for ratings\n",
        "plt.figure(figsize=(10, 5))\n",
        "plt.hist(training_data['rating'], bins=10, edgecolor='black')\n",
        "plt.xlabel('Rating')\n",
        "plt.ylabel('Frequency')\n",
        "plt.title('Distribution of Problem Ratings')\n",
        "plt.show()\n",
        "\n",
        "\n",
        "# Bar graph for tag frequency\n",
        "tag_frequencies = Counter([tag for tags in training_data['problem_tags'].dropna() for tag in tags.split(',') if tag in most_frequent_tags])\n",
        "\n",
        "plt.figure(figsize=(15, 5))\n",
        "plt.bar(tag_frequencies.keys(), tag_frequencies.values())\n",
        "plt.xlabel('Tags')\n",
        "plt.ylabel('Frequency')\n",
        "plt.title(f'Frequency of Top {n} Tags')\n",
        "plt.xticks(rotation=90)  # Rotate x-axis labels for better readability\n",
        "plt.show()"
      ],
      "metadata": {
        "colab": {
          "base_uri": "https://localhost:8080/",
          "height": 846
        },
        "id": "t3S0Gg_I5hWH",
        "outputId": "05665aa7-3100-4f1f-bf9e-faec3ceeebed"
      },
      "execution_count": null,
      "outputs": [
        {
          "output_type": "display_data",
          "data": {
            "text/plain": [
              "<Figure size 1000x500 with 1 Axes>"
            ],
            "image/png": "[encoded data removed]"
          },
          "metadata": {}
        },
        {
          "output_type": "display_data",
          "data": {
            "text/plain": [
              "<Figure size 1500x500 with 1 Axes>"
            ],
            "image/png": "[encoded data removed]"
          },
          "metadata": {}
        }
      ]
    },
    {
      "cell_type": "code",
      "source": [
        "# prompt: now make a function that takes  the string from problem tags, and returns a pytorch vector of floats length n, where a[i] is 1 iff the ith most frequent problem tag is in the list\n",
        "# also make a function that takes a rating and computes its zscore when the mean rating is 1500 and the standard deviation is 300\n",
        "# make an inverse of that function as well\n",
        "from transformers import BertTokenizer\n",
        "\n",
        "def problem_tags_to_vector(tags_string, most_frequent_tags, n):\n",
        "  \"\"\"\n",
        "  Converts a string of problem tags to a PyTorch vector of length n.\n",
        "\n",
        "  Args:\n",
        "    tags_string: A string of problem tags separated by commas.\n",
        "    most_frequent_tags: A set of the n most frequent problem tags.\n",
        "    n: The length of the vector.\n",
        "\n",
        "  Returns:\n",
        "    A PyTorch vector of floats, where a[i] is 1 if the ith most frequent\n",
        "    problem tag is present in the tags_string, and 0 otherwise.\n",
        "  \"\"\"\n",
        "  if not isinstance(tags_string, str):\n",
        "    return torch.zeros(n)\n",
        "  tags = set(tags_string.split(','))\n",
        "  vector = [1.0 if tag in tags else 0.0 for tag in most_frequent_tags]\n",
        "  return torch.tensor(vector, dtype=torch.float32)\n",
        "\n",
        "def rating_to_zscore(rating):\n",
        "  \"\"\"Computes the z-score of a rating.\"\"\"\n",
        "  mean_rating = 1500\n",
        "  std_rating = 300\n",
        "  return (rating - mean_rating) / std_rating\n",
        "\n",
        "def zscore_to_rating(zscore):\n",
        "  \"\"\"Computes the rating from a z-score.\"\"\"\n",
        "  mean_rating = 1500\n",
        "  std_rating = 300\n",
        "  return (zscore * std_rating) + mean_rating\n",
        "\n",
        "MAXLEN = 512\n",
        "tokenizer = BertTokenizer.from_pretrained('bert-base-uncased')\n",
        "def tokenize_text(text):\n",
        "  return tokenizer(text, padding='max_length', truncation=True, max_length=MAXLEN)\n",
        "\n",
        "\n",
        "#TODO\n",
        "#MOVE THIS TO A MORE SENSIBLE AREA"
      ],
      "metadata": {
        "id": "f9f6RWvW92zv"
      },
      "execution_count": null,
      "outputs": []
    },
    {
      "cell_type": "code",
      "source": [
        "from transformers import BertModel\n",
        "from torch.utils.data import Dataset\n",
        "import torch.nn.init as init\n",
        "import torch.nn as nn\n",
        "\n",
        "class MultiTaskModel(nn.Module):\n",
        "    def __init__(self):\n",
        "        super(MultiTaskModel, self).__init__()\n",
        "        self.bert = BertModel.from_pretrained('prajjwal1/bert-small')\n",
        "        self.rating_classifier = nn.Linear(768, 1)  # For regression or binary classification\n",
        "        self.tag_classifier = nn.Linear(768, n)  # Multi-label classification\n",
        "\n",
        "    def forward(self, input_ids, attention_mask):\n",
        "        outputs = self.bert(input_ids=input_ids, attention_mask=attention_mask)\n",
        "        pooled_output = outputs.pooler_output\n",
        "        rating_pred = self.rating_classifier(pooled_output)\n",
        "        tag_pred = self.tag_classifier(pooled_output)\n",
        "        return rating_pred, tag_pred\n",
        "\n",
        "class TagModel(nn.Module):\n",
        "    def __init__(self):\n",
        "        super(TagModel, self).__init__()\n",
        "        self.bert = BertModel.from_pretrained('prajjwal1/bert-small')\n",
        "        self.tag_classifier = nn.Linear(512, n)  # Multi-label classification\n",
        "\n",
        "    def forward(self, input_ids, attention_mask):\n",
        "        outputs = self.bert(input_ids=input_ids, attention_mask=attention_mask)\n",
        "        pooled_output = outputs.pooler_output\n",
        "        tag_pred = self.tag_classifier(pooled_output)\n",
        "        return tag_pred\n",
        "\n",
        "def init_weights(m):\n",
        "    if isinstance(m, nn.Linear):\n",
        "        init.xavier_uniform_(m.weight)\n",
        "        m.bias.data.fill_(0.01)\n",
        "\n",
        "class CustomDataset(Dataset):\n",
        "    def __init__(self, input_ids, attention_mask, ratings, tags, device):\n",
        "        self.input_ids = input_ids.to(device)\n",
        "        self.attention_mask = attention_mask.to(device)\n",
        "        self.ratings = ratings.to(device)\n",
        "        self.tags = tags.to(device)\n",
        "\n",
        "    def __len__(self):\n",
        "        return len(self.input_ids)\n",
        "\n",
        "    def __getitem__(self, idx):\n",
        "        return self.input_ids[idx], self.attention_mask[idx], self.ratings[idx], self.tags[idx]"
      ],
      "metadata": {
        "id": "JW0rR85y-6lC"
      },
      "execution_count": null,
      "outputs": []
    },
    {
      "cell_type": "code",
      "source": [
        "from torch.utils.data import DataLoader, TensorDataset\n",
        "\n",
        "texts = training_data['problem_statement'].tolist()\n",
        "encodings = tokenizer(texts, truncation=True, padding=True, max_length=MAXLEN)\n",
        "\n",
        "tags = training_data['problem_tags'].tolist()\n",
        "tags = [problem_tags_to_vector(tag, most_frequent_tags, n) for tag in tags]\n",
        "\n",
        "ratings = training_data['rating'].tolist()\n",
        "ratings = [rating_to_zscore(rating) for rating in ratings]\n",
        "\n",
        "input_ids = torch.tensor(encodings['input_ids'])\n",
        "attention_mask = torch.tensor(encodings['attention_mask'])\n",
        "ratings = torch.tensor(ratings, dtype=torch.float32)\n",
        "\n",
        "tags = torch.stack(tags)\n",
        "\n",
        "#validation stuff\n",
        "val_texts = validation_data['problem_statement'].tolist()\n",
        "val_encodings = tokenizer(val_texts, truncation=True, padding=True, max_length=MAXLEN)\n",
        "\n",
        "val_tags = validation_data['problem_tags'].tolist()\n",
        "val_tags = [problem_tags_to_vector(tag, most_frequent_tags, n) for tag in val_tags]\n",
        "\n",
        "val_ratings = validation_data['rating'].tolist()\n",
        "val_ratings = [rating_to_zscore(rating) for rating in val_ratings]\n",
        "\n",
        "val_input_ids = torch.tensor(val_encodings['input_ids'])\n",
        "val_attention_mask = torch.tensor(val_encodings['attention_mask'])\n",
        "val_ratings = torch.tensor(val_ratings, dtype=torch.float32)\n",
        "\n",
        "val_tags = torch.stack(val_tags)\n",
        "\n",
        "\n",
        "bsz = 32\n",
        "val_dataset = CustomDataset(val_input_ids, val_attention_mask, val_ratings, val_tags, device)\n",
        "val_loader = DataLoader(val_dataset, batch_size=bsz, shuffle=True)\n",
        "dataset = CustomDataset(input_ids, attention_mask, ratings, tags, device)\n",
        "loader = DataLoader(dataset, batch_size=bsz, shuffle=True)"
      ],
      "metadata": {
        "id": "S0ta2ylDBlP4"
      },
      "execution_count": null,
      "outputs": []
    },
    {
      "cell_type": "code",
      "source": [
        "import matplotlib.pyplot as plt\n",
        "from IPython import display\n",
        "import torch.optim as optim\n",
        "from tqdm import tqdm\n",
        "\n",
        "rating_losses = []\n",
        "tag_losses = []\n",
        "total_losses = []\n",
        "\n",
        "model = TagModel()\n",
        "model.apply(init_weights)\n",
        "model.to(device)\n",
        "optimizer = optim.AdamW(model.parameters(), lr=5e-5)\n",
        "model.train()\n",
        "\n",
        "ratingw = 0.1\n",
        "tagw = 1\n",
        "\n",
        "for epoch in range(10):\n",
        "    loop = tqdm(loader, leave=True) # wrap the dataloader with tqdm\n",
        "    for batch_idx, batch in enumerate(loop):\n",
        "        input_ids, attention_mask, rating_labels, tag_labels = batch\n",
        "\n",
        "        optimizer.zero_grad()\n",
        "        tag_pred = model(input_ids=input_ids, attention_mask=attention_mask)\n",
        "\n",
        "        loss = nn.BCEWithLogitsLoss()(tag_pred, tag_labels)\n",
        "\n",
        "        # rating_losses.append(rating_loss.item())\n",
        "        # tag_losses.append(tag_loss.item())\n",
        "        total_losses.append(loss.item())\n",
        "\n",
        "        loss.backward()\n",
        "        optimizer.step()\n",
        "\n",
        "        # Update progress bar description\n",
        "        loop.set_description(f\"Epoch [{epoch + 1}/3]\")\n",
        "        loop.set_postfix(tag_loss=loss.item())\n",
        "\n",
        "    #try validation set\n",
        "    model.eval()\n",
        "    with torch.no_grad():\n",
        "        val_loss = 0\n",
        "        for batch_idx, batch in enumerate(val_loader):\n",
        "            input_ids, attention_mask, rating_labels, tag_labels = batch\n",
        "            tag_pred = model(input_ids=input_ids, attention_mask=attention_mask)\n",
        "            loss = nn.BCEWithLogitsLoss()(tag_pred, tag_labels)\n",
        "            val_loss += loss.item()\n",
        "            # Update progress bar description\n",
        "            loop.set_description(f\"Epoch [{epoch + 1}/3]\")\n",
        "            loop.set_postfix(val_loss=loss.item())\n",
        "        val_loss /= len(val_loader)\n",
        "    print(f\"Epoch {epoch + 1} completed.\")\n",
        "    print(f\"Validation loss: {val_loss}\")\n",
        "    model.train()\n"
      ],
      "metadata": {
        "colab": {
          "base_uri": "https://localhost:8080/",
          "height": 602,
          "referenced_widgets": [
            "54b3effba2ca40baa5690dbf1b19c6a5",
            "f80cf15c8da54231b7d37d703934be06",
            "64efe0e5bbbb4e51b1f1cf5c1e7d5aeb",
            "f4e5360744994d2694a24136f7d502d2",
            "8a7aa54fe35c41d09816f3df890d1824",
            "9fdff39218a9433c8d3a25373e1433f6",
            "9c1e3b84f4dc473799d5753ddff25c24",
            "d2e6aaffb3574048ba3195c4c8fad119",
            "e1d8c06966944d1da8a561a30d0d0c4d",
            "8aa1204f4d0f4df19bb2c84141382ce1",
            "7d6b650b561d4911bfda586561c6cca4",
            "e9f45ec7fbf0484b864b60f69ca78c84",
            "005d9bd4c96e425aae5ff93fe4f2b5fb",
            "305ac62cda9844339eb3760bd68cb40a",
            "710762c5cbb74eef8caae316dc97c98e",
            "4baadb9634224161b28fd3dc99c37a85",
            "66dad055196640b0ab8b0617c4e9332c",
            "84d997fe5a37443c8a38b106a0157065",
            "3dcd0c7d8f3144f8815e6b72833c99c8",
            "e5a3d7c179a84de7846f7ce11a59ffbf",
            "c539d041ad3543c2a4c1933e6a7d4279",
            "52399c86f9fe486ca6455173d0c91df6"
          ]
        },
        "id": "I93aQhCEE5Ph",
        "outputId": "9221951a-f036-4f3f-d1c1-4e843160268e"
      },
      "execution_count": null,
      "outputs": [
        {
          "output_type": "display_data",
          "data": {
            "text/plain": [
              "config.json:   0%|          | 0.00/286 [00:00<?, ?B/s]"
            ],
            "application/vnd.jupyter.widget-view+json": {
              "version_major": 2,
              "version_minor": 0,
              "model_id": "54b3effba2ca40baa5690dbf1b19c6a5"
            }
          },
          "metadata": {}
        },
        {
          "output_type": "display_data",
          "data": {
            "text/plain": [
              "pytorch_model.bin:   0%|          | 0.00/116M [00:00<?, ?B/s]"
            ],
            "application/vnd.jupyter.widget-view+json": {
              "version_major": 2,
              "version_minor": 0,
              "model_id": "e9f45ec7fbf0484b864b60f69ca78c84"
            }
          },
          "metadata": {}
        },
        {
          "output_type": "stream",
          "name": "stderr",
          "text": [
            "Epoch [1/3]: 100%|██████████| 186/186 [01:31<00:00,  2.02it/s, tag_loss=0.763]\n"
          ]
        },
        {
          "output_type": "stream",
          "name": "stdout",
          "text": [
            "Epoch 1 completed.\n",
            "Validation loss: 0.5090696792653266\n"
          ]
        },
        {
          "output_type": "stream",
          "name": "stderr",
          "text": [
            "Epoch [2/3]: 100%|██████████| 186/186 [01:32<00:00,  2.01it/s, tag_loss=0.591]\n"
          ]
        },
        {
          "output_type": "stream",
          "name": "stdout",
          "text": [
            "Epoch 2 completed.\n",
            "Validation loss: 0.48635117424295304\n"
          ]
        },
        {
          "output_type": "stream",
          "name": "stderr",
          "text": [
            "Epoch [3/3]: 100%|██████████| 186/186 [01:32<00:00,  2.02it/s, tag_loss=0.264]\n"
          ]
        },
        {
          "output_type": "stream",
          "name": "stdout",
          "text": [
            "Epoch 3 completed.\n",
            "Validation loss: 0.48212172566576206\n"
          ]
        },
        {
          "output_type": "stream",
          "name": "stderr",
          "text": [
            "Epoch [4/3]: 100%|██████████| 186/186 [01:32<00:00,  2.02it/s, tag_loss=0.378]\n"
          ]
        },
        {
          "output_type": "stream",
          "name": "stdout",
          "text": [
            "Epoch 4 completed.\n",
            "Validation loss: 0.5064417757886521\n"
          ]
        },
        {
          "output_type": "stream",
          "name": "stderr",
          "text": [
            "Epoch [5/3]: 100%|██████████| 186/186 [01:32<00:00,  2.02it/s, tag_loss=0.33]\n"
          ]
        },
        {
          "output_type": "stream",
          "name": "stdout",
          "text": [
            "Epoch 5 completed.\n",
            "Validation loss: 0.5504145850526526\n"
          ]
        },
        {
          "output_type": "stream",
          "name": "stderr",
          "text": [
            "Epoch [6/3]: 100%|██████████| 186/186 [01:32<00:00,  2.02it/s, tag_loss=0.472]\n"
          ]
        },
        {
          "output_type": "stream",
          "name": "stdout",
          "text": [
            "Epoch 6 completed.\n",
            "Validation loss: 0.6224576323590381\n"
          ]
        },
        {
          "output_type": "stream",
          "name": "stderr",
          "text": [
            "Epoch [7/3]: 100%|██████████| 186/186 [01:32<00:00,  2.02it/s, tag_loss=0.0867]\n"
          ]
        },
        {
          "output_type": "stream",
          "name": "stdout",
          "text": [
            "Epoch 7 completed.\n",
            "Validation loss: 0.6946479690835831\n"
          ]
        },
        {
          "output_type": "stream",
          "name": "stderr",
          "text": [
            "Epoch [8/3]: 100%|██████████| 186/186 [01:32<00:00,  2.02it/s, tag_loss=0.282]\n"
          ]
        },
        {
          "output_type": "stream",
          "name": "stdout",
          "text": [
            "Epoch 8 completed.\n",
            "Validation loss: 0.8295112683417949\n"
          ]
        },
        {
          "output_type": "stream",
          "name": "stderr",
          "text": [
            "Epoch [9/3]: 100%|██████████| 186/186 [01:32<00:00,  2.02it/s, tag_loss=0.0398]\n"
          ]
        },
        {
          "output_type": "stream",
          "name": "stdout",
          "text": [
            "Epoch 9 completed.\n",
            "Validation loss: 0.8209961893710684\n"
          ]
        },
        {
          "output_type": "stream",
          "name": "stderr",
          "text": [
            "Epoch [10/3]: 100%|██████████| 186/186 [01:32<00:00,  2.01it/s, tag_loss=0.185]\n"
          ]
        },
        {
          "output_type": "stream",
          "name": "stdout",
          "text": [
            "Epoch 10 completed.\n",
            "Validation loss: 0.8921367475327026\n"
          ]
        }
      ]
    },
    {
      "cell_type": "code",
      "source": [],
      "metadata": {
        "id": "MiqD2Dw68Qyt"
      },
      "execution_count": null,
      "outputs": []
    },
    {
      "cell_type": "code",
      "source": [
        "# prompt: make one chart plotting rating loss and tag loss and their sum\n",
        "\n",
        "plt.figure(figsize=(10, 6))\n",
        "# plt.plot(rating_losses, label='Rating Loss')\n",
        "plt.plot(total_losses, label='Tag Loss')\n",
        "# plt.plot([x + y for x, y in zip(rating_losses, tag_losses)], label='Total Loss')\n",
        "plt.xlabel('Iteration')\n",
        "plt.ylabel('Loss')\n",
        "plt.title('Rating Loss, Tag Loss, and Total Loss')\n",
        "plt.legend()\n",
        "plt.show()"
      ],
      "metadata": {
        "colab": {
          "base_uri": "https://localhost:8080/",
          "height": 549
        },
        "id": "JdISE3XOq8Pj",
        "outputId": "7c221284-dc86-4c62-e591-fcbc8f7aec98"
      },
      "execution_count": null,
      "outputs": [
        {
          "output_type": "display_data",
          "data": {
            "text/plain": [
              "<Figure size 1000x600 with 1 Axes>"
            ],
            "image/png": "[encoded data removed]"
          },
          "metadata": {}
        }
      ]
    }
  ]
}