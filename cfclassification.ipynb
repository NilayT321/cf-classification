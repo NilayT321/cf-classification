{
  "nbformat": 4,
  "nbformat_minor": 0,
  "metadata": {
    "colab": {
      "provenance": [],
      "gpuType": "T4"
    },
    "kernelspec": {
      "name": "python3",
      "display_name": "Python 3"
    },
    "language_info": {
      "name": "python"
    },
    "accelerator": "GPU"
  },
  "cells": [
    {
      "cell_type": "code",
      "execution_count": null,
      "metadata": {
        "id": "c-y6aHFHsGkL"
      },
      "outputs": [],
      "source": [
        "import pandas as pd\n",
        "import torch\n",
        "\n",
        "#grab data from working directory\n",
        "main_data = pd.read_csv('data.csv')\n",
        "training_data = pd.read_csv('training_data.csv')\n",
        "validation_data = pd.read_csv('validation_data.csv')"
      ]
    },
    {
      "cell_type": "code",
      "source": [
        "dtype = torch.float\n",
        "ltype = torch.long\n",
        "\n",
        "if torch.cuda.is_available():\n",
        "  device = torch.device('cuda:0')\n",
        "else:\n",
        "  device = torch.device('cpu')\n",
        "\n",
        "# Constant to control how frequently we print train loss\n",
        "\n",
        "print('using device:', device)"
      ],
      "metadata": {
        "colab": {
          "base_uri": "https://localhost:8080/"
        },
        "id": "TN9AsqrMTuj8",
        "outputId": "dcd0fbd7-16ec-4cae-fd20-e881892b7ce7"
      },
      "execution_count": null,
      "outputs": [
        {
          "output_type": "stream",
          "name": "stdout",
          "text": [
            "using device: cuda:0\n"
          ]
        }
      ]
    },
    {
      "cell_type": "code",
      "source": [
        "# prompt: write 2 data preprocessing functions\n",
        "# the first one filters out all rows that have an empty 'problem_tags' column or have the problem_tags column include \"*specialproblem\". it also filters out all rows that have empty problem_statement columns\n",
        "# the second function will split the problem_tags column and split it into two columns. the first resulting column will just be the original problem_tags column and the second resulting column will be rating.\n",
        "# the problem tags column is originally a comma seperated list and should include some value that looks like *2400 or *2300 or *900, these values are ratings. there should be only one of them, take the rating value and put it in the rating column. if there is a problem with no rating value in its 'problem_tags' column it should be filtered out\n",
        "\n",
        "def preprocess_data_1(df):\n",
        "  \"\"\"\n",
        "  Filters out rows with empty 'problem_tags' or 'problem_statement' columns,\n",
        "  and rows where 'problem_tags' contains '*specialproblem'.\n",
        "  \"\"\"\n",
        "  df = df.dropna(subset=['problem_tags', 'problem_statement'])\n",
        "  df = df[~df['problem_tags'].str.contains(r\"\\*specialproblem\", na=False)]\n",
        "  return df\n",
        "\n",
        "def preprocess_data_2(df):\n",
        "  \"\"\"\n",
        "  Splits the 'problem_tags' column into two columns: 'problem_tags' (original)\n",
        "  and 'rating'. Extracts the rating value from the 'problem_tags' column if\n",
        "  it exists, otherwise filters out the row.\n",
        "  \"\"\"\n",
        "  def extract_rating(tags):\n",
        "    if isinstance(tags, str):\n",
        "      for tag in tags.split(','):\n",
        "        if '*' in tag and tag.replace('*', '').isdigit():\n",
        "          return int(tag.replace('*', ''))\n",
        "    return None\n",
        "\n",
        "  df.loc[:, 'rating'] = df['problem_tags'].apply(extract_rating)\n",
        "\n",
        "  #drop rows with no rating\n",
        "  df = df.dropna(subset=['rating'])\n",
        "\n",
        "  for i in range(len(df)):\n",
        "    good_tags = []\n",
        "    for tag in df.iloc[i]['problem_tags'].split(','):\n",
        "      if '*' not in tag and tag.split():\n",
        "        good_tags.append(tag)\n",
        "    df.loc[df.index[i], 'problem_tags'] = ','.join(good_tags)\n",
        "\n",
        "  #drop problems with empty string for tags\n",
        "  df = df[df['problem_tags'] != '']\n",
        "\n",
        "  return df\n",
        "\n",
        "main_data = preprocess_data_1(main_data)\n",
        "main_data = preprocess_data_2(main_data)\n",
        "training_data = preprocess_data_1(training_data)\n",
        "training_data = preprocess_data_2(training_data)\n",
        "validation_data = preprocess_data_1(validation_data)\n",
        "validation_data = preprocess_data_2(validation_data)"
      ],
      "metadata": {
        "colab": {
          "base_uri": "https://localhost:8080/"
        },
        "id": "_m12BBOqyqfa",
        "outputId": "e921aae7-8940-4313-c185-9c334dbc086b"
      },
      "execution_count": null,
      "outputs": [
        {
          "output_type": "stream",
          "name": "stderr",
          "text": [
            "<ipython-input-4-39eb564d6f9e>:28: SettingWithCopyWarning: \n",
            "A value is trying to be set on a copy of a slice from a DataFrame.\n",
            "Try using .loc[row_indexer,col_indexer] = value instead\n",
            "\n",
            "See the caveats in the documentation: https://pandas.pydata.org/pandas-docs/stable/user_guide/indexing.html#returning-a-view-versus-a-copy\n",
            "  df['rating'] = df['problem_tags'].apply(extract_rating)\n"
          ]
        }
      ]
    },
    {
      "cell_type": "markdown",
      "source": [],
      "metadata": {
        "id": "Y9xqRg25sVKR"
      }
    },
    {
      "cell_type": "code",
      "source": [
        "\n",
        "n = 25  # Hyperparameter for the number of most frequent tags\n",
        "\n",
        "all_tags = []\n",
        "for tags in main_data['problem_tags'].dropna():\n",
        "    all_tags.extend(tags.split(','))\n",
        "\n",
        "from collections import Counter\n",
        "\n",
        "tag_counts = Counter(all_tags)\n",
        "most_frequent_tags = set([tag for tag, count in tag_counts.most_common(n)])\n",
        "\n",
        "print(f\"The {n} most frequent tags are: {most_frequent_tags}\")"
      ],
      "metadata": {
        "colab": {
          "base_uri": "https://localhost:8080/"
        },
        "id": "2D-sNGFsunvb",
        "outputId": "0dab58f3-0577-40fc-fe01-41e829461582"
      },
      "execution_count": null,
      "outputs": [
        {
          "output_type": "stream",
          "name": "stdout",
          "text": [
            "The 25 most frequent tags are: {'hashing', 'probabilities', 'constructivealgorithms', 'geometry', 'greedy', 'sortings', 'games', 'strings', 'dfsandsimilar', 'interactive', 'graphs', 'datastructures', 'numbertheory', 'shortestpaths', 'binarysearch', 'divideandconquer', 'bruteforce', 'twopointers', 'dp', 'bitmasks', 'combinatorics', 'dsu', 'implementation', 'trees', 'math'}\n"
          ]
        }
      ]
    },
    {
      "cell_type": "code",
      "source": [
        "# prompt: what percent of problems use a tag found in the n most common ?\n",
        "\n",
        "problems_with_top_n_tags = 0\n",
        "total_problems = len(main_data)\n",
        "\n",
        "for tags in main_data['problem_tags'].dropna():\n",
        "  if isinstance(tags, str):\n",
        "    for tag in tags.split(','):\n",
        "      if tag in most_frequent_tags:\n",
        "        problems_with_top_n_tags += 1\n",
        "        break  # Only count the problem once if it has at least one top-n tag\n",
        "\n",
        "percentage = (problems_with_top_n_tags / total_problems) * 100\n",
        "print(f\"Percentage of problems with at least one of the top {n} tags: {percentage:.2f}%\")"
      ],
      "metadata": {
        "colab": {
          "base_uri": "https://localhost:8080/"
        },
        "id": "9zzxX6lq1mJa",
        "outputId": "925fad23-5061-4074-bc80-0b0fd7a64813"
      },
      "execution_count": null,
      "outputs": [
        {
          "output_type": "stream",
          "name": "stdout",
          "text": [
            "Percentage of problems with at least one of the top 25 tags: 99.45%\n"
          ]
        }
      ]
    },
    {
      "cell_type": "code",
      "source": [
        "# prompt: now make a function that takes  the string from problem tags, and returns a pytorch vector of floats length n, where a[i] is 1 iff the ith most frequent problem tag is in the list\n",
        "# also make a function that takes a rating and computes its zscore when the mean rating is 1500 and the standard deviation is 300\n",
        "# make an inverse of that function as well\n",
        "from transformers import BertTokenizer\n",
        "\n",
        "def problem_tags_to_vector(tags_string, most_frequent_tags, n):\n",
        "  \"\"\"\n",
        "  Converts a string of problem tags to a PyTorch vector of length n.\n",
        "\n",
        "  Args:\n",
        "    tags_string: A string of problem tags separated by commas.\n",
        "    most_frequent_tags: A set of the n most frequent problem tags.\n",
        "    n: The length of the vector.\n",
        "\n",
        "  Returns:\n",
        "    A PyTorch vector of floats, where a[i] is 1 if the ith most frequent\n",
        "    problem tag is present in the tags_string, and 0 otherwise.\n",
        "  \"\"\"\n",
        "  if not isinstance(tags_string, str):\n",
        "    return torch.zeros(n)\n",
        "  tags = set(tags_string.split(','))\n",
        "  vector = [1.0 if tag in tags else 0.0 for tag in most_frequent_tags]\n",
        "  return torch.tensor(vector, dtype=torch.float32)\n",
        "\n",
        "def rating_to_zscore(rating):\n",
        "  \"\"\"Computes the z-score of a rating.\"\"\"\n",
        "  mean_rating = 1500\n",
        "  std_rating = 300\n",
        "  return (rating - mean_rating) / std_rating\n",
        "\n",
        "def zscore_to_rating(zscore):\n",
        "  \"\"\"Computes the rating from a z-score.\"\"\"\n",
        "  mean_rating = 1500\n",
        "  std_rating = 300\n",
        "  return (zscore * std_rating) + mean_rating\n",
        "\n",
        "MAXLEN = 512\n",
        "tokenizer = BertTokenizer.from_pretrained('bert-base-uncased')\n",
        "def tokenize_text(text):\n",
        "  return tokenizer(text, padding='max_length', truncation=True, max_length=MAXLEN)\n",
        "\n",
        "\n",
        "#TODO\n",
        "#MOVE THIS TO A MORE SENSIBLE AREA"
      ],
      "metadata": {
        "id": "f9f6RWvW92zv"
      },
      "execution_count": null,
      "outputs": []
    },
    {
      "cell_type": "code",
      "source": [
        "from transformers import BertModel\n",
        "from torch.utils.data import Dataset\n",
        "import torch.nn.init as init\n",
        "import torch.nn as nn\n",
        "\n",
        "class MultiTaskModel(nn.Module):\n",
        "    def __init__(self):\n",
        "        super(MultiTaskModel, self).__init__()\n",
        "        self.bert = BertModel.from_pretrained('bert-base-uncased')\n",
        "        self.rating_classifier = nn.Linear(768, 1)  # For regression or binary classification\n",
        "        self.tag_classifier = nn.Linear(768, n)  # Multi-label classification\n",
        "\n",
        "    def forward(self, input_ids, attention_mask):\n",
        "        outputs = self.bert(input_ids=input_ids, attention_mask=attention_mask)\n",
        "        pooled_output = outputs.pooler_output\n",
        "        rating_pred = self.rating_classifier(pooled_output)\n",
        "        tag_pred = self.tag_classifier(pooled_output)\n",
        "        return rating_pred, tag_pred\n",
        "\n",
        "class TagModel(nn.Module):\n",
        "    def __init__(self):\n",
        "        super(TagModel, self).__init__()\n",
        "        self.bert = BertModel.from_pretrained('bert-base-uncased')\n",
        "        self.tag_classifier = nn.Linear(768, n)  # Multi-label classification\n",
        "\n",
        "    def forward(self, input_ids, attention_mask):\n",
        "        outputs = self.bert(input_ids=input_ids, attention_mask=attention_mask)\n",
        "        pooled_output = outputs.pooler_output\n",
        "        tag_pred = self.tag_classifier(pooled_output)\n",
        "        return tag_pred\n",
        "\n",
        "def init_weights(m):\n",
        "    if isinstance(m, nn.Linear):\n",
        "        init.xavier_uniform_(m.weight)\n",
        "        m.bias.data.fill_(0.01)\n",
        "\n",
        "class CustomDataset(Dataset):\n",
        "    def __init__(self, input_ids, attention_mask, ratings, tags, device):\n",
        "        self.input_ids = input_ids.to(device)\n",
        "        self.attention_mask = attention_mask.to(device)\n",
        "        self.ratings = ratings.to(device)\n",
        "        self.tags = tags.to(device)\n",
        "\n",
        "    def __len__(self):\n",
        "        return len(self.input_ids)\n",
        "\n",
        "    def __getitem__(self, idx):\n",
        "        return self.input_ids[idx], self.attention_mask[idx], self.ratings[idx], self.tags[idx]"
      ],
      "metadata": {
        "id": "JW0rR85y-6lC"
      },
      "execution_count": null,
      "outputs": []
    },
    {
      "cell_type": "code",
      "source": [
        "from torch.utils.data import DataLoader, TensorDataset\n",
        "\n",
        "texts = training_data['problem_statement'].tolist()\n",
        "encodings = tokenizer(texts, truncation=True, padding=True, max_length=MAXLEN)\n",
        "\n",
        "tags = training_data['problem_tags'].tolist()\n",
        "tags = [problem_tags_to_vector(tag, most_frequent_tags, n) for tag in tags]\n",
        "\n",
        "ratings = training_data['rating'].tolist()\n",
        "ratings = [rating_to_zscore(rating) for rating in ratings]\n",
        "\n",
        "input_ids = torch.tensor(encodings['input_ids'])\n",
        "attention_mask = torch.tensor(encodings['attention_mask'])\n",
        "ratings = torch.tensor(ratings, dtype=torch.float32)\n",
        "\n",
        "tags = torch.stack(tags)\n",
        "\n",
        "#validation stuff\n",
        "val_texts = validation_data['problem_statement'].tolist()\n",
        "val_encodings = tokenizer(val_texts, truncation=True, padding=True, max_length=MAXLEN)\n",
        "\n",
        "val_tags = validation_data['problem_tags'].tolist()\n",
        "val_tags = [problem_tags_to_vector(tag, most_frequent_tags, n) for tag in val_tags]\n",
        "\n",
        "val_ratings = validation_data['rating'].tolist()\n",
        "val_ratings = [rating_to_zscore(rating) for rating in val_ratings]\n",
        "\n",
        "val_input_ids = torch.tensor(val_encodings['input_ids'])\n",
        "val_attention_mask = torch.tensor(val_encodings['attention_mask'])\n",
        "val_ratings = torch.tensor(val_ratings, dtype=torch.float32)\n",
        "\n",
        "val_tags = torch.stack(val_tags)\n",
        "\n",
        "\n",
        "bsz = 32\n",
        "val_dataset = CustomDataset(val_input_ids, val_attention_mask, val_ratings, val_tags, device)\n",
        "val_loader = DataLoader(val_dataset, batch_size=bsz, shuffle=True)\n",
        "dataset = CustomDataset(input_ids, attention_mask, ratings, tags, device)\n",
        "loader = DataLoader(dataset, batch_size=bsz, shuffle=True)"
      ],
      "metadata": {
        "id": "S0ta2ylDBlP4"
      },
      "execution_count": null,
      "outputs": []
    },
    {
      "cell_type": "code",
      "source": [
        "import matplotlib.pyplot as plt\n",
        "from IPython import display\n",
        "import torch.optim as optim\n",
        "from tqdm import tqdm\n",
        "\n",
        "rating_losses = []\n",
        "tag_losses = []\n",
        "total_losses = []\n",
        "\n",
        "model = TagModel()\n",
        "model.apply(init_weights)\n",
        "model.to(device)\n",
        "optimizer = optim.AdamW(model.parameters(), lr=5e-5)\n",
        "model.train()\n",
        "\n",
        "ratingw = 0.1\n",
        "tagw = 1\n",
        "\n",
        "for epoch in range(3):\n",
        "    loop = tqdm(loader, leave=True) # wrap the dataloader with tqdm\n",
        "    for batch_idx, batch in enumerate(loop):\n",
        "        input_ids, attention_mask, rating_labels, tag_labels = batch\n",
        "\n",
        "        optimizer.zero_grad()\n",
        "        tag_pred = model(input_ids=input_ids, attention_mask=attention_mask)\n",
        "\n",
        "        loss = nn.BCEWithLogitsLoss()(tag_pred, tag_labels)\n",
        "\n",
        "        # rating_losses.append(rating_loss.item())\n",
        "        # tag_losses.append(tag_loss.item())\n",
        "        total_losses.append(loss.item())\n",
        "\n",
        "        loss.backward()\n",
        "        optimizer.step()\n",
        "\n",
        "        # Update progress bar description\n",
        "        loop.set_description(f\"Epoch [{epoch + 1}/3]\")\n",
        "        loop.set_postfix(tag_loss=loss.item())\n",
        "\n",
        "    #try validation set\n",
        "    model.eval()\n",
        "    with torch.no_grad():\n",
        "        val_loss = 0\n",
        "        for batch_idx, batch in enumerate(val_loader):\n",
        "            input_ids, attention_mask, rating_labels, tag_labels = batch\n",
        "            tag_pred = model(input_ids=input_ids, attention_mask=attention_mask)\n",
        "            loss = nn.BCEWithLogitsLoss()(tag_pred, tag_labels)\n",
        "            val_loss += loss.item()\n",
        "            # Update progress bar description\n",
        "            loop.set_description(f\"Epoch [{epoch + 1}/3]\")\n",
        "            loop.set_postfix(val_loss=loss.item())\n",
        "        val_loss /= len(val_loader)\n",
        "    print(f\"Epoch {epoch + 1} completed.\")\n",
        "    print(f\"Validation loss: {val_loss}\")\n",
        "    model.train()\n"
      ],
      "metadata": {
        "colab": {
          "base_uri": "https://localhost:8080/"
        },
        "id": "I93aQhCEE5Ph",
        "outputId": "6bb48e1c-61af-40c1-9931-386250e403c8"
      },
      "execution_count": null,
      "outputs": [
        {
          "metadata": {
            "tags": null
          },
          "name": "stderr",
          "output_type": "stream",
          "text": [
            "Epoch [1/3]: 100%|██████████| 371/371 [09:03<00:00,  1.47s/it, tag_loss=0.308]\n"
          ]
        },
        {
          "metadata": {
            "tags": null
          },
          "name": "stdout",
          "output_type": "stream",
          "text": [
            "Epoch 1 completed.\n",
            "Validation loss: 0.29987896820332144\n"
          ]
        },
        {
          "metadata": {
            "tags": null
          },
          "name": "stderr",
          "output_type": "stream",
          "text": [
            "Epoch [2/3]: 100%|██████████| 371/371 [09:02<00:00,  1.46s/it, tag_loss=0.292]\n"
          ]
        },
        {
          "metadata": {
            "tags": null
          },
          "name": "stdout",
          "output_type": "stream",
          "text": [
            "Epoch 2 completed.\n",
            "Validation loss: 0.3007832740215545\n"
          ]
        },
        {
          "output_type": "stream",
          "name": "stderr",
          "text": [
            "Epoch [3/3]:  18%|█▊        | 68/371 [01:39<07:25,  1.47s/it, tag_loss=0.375]"
          ]
        }
      ]
    },
    {
      "cell_type": "code",
      "source": [],
      "metadata": {
        "id": "MiqD2Dw68Qyt"
      },
      "execution_count": null,
      "outputs": []
    },
    {
      "cell_type": "code",
      "source": [
        "# prompt: make one chart plotting rating loss and tag loss and their sum\n",
        "\n",
        "plt.figure(figsize=(10, 6))\n",
        "# plt.plot(rating_losses, label='Rating Loss')\n",
        "plt.plot(total_losses, label='Tag Loss')\n",
        "# plt.plot([x + y for x, y in zip(rating_losses, tag_losses)], label='Total Loss')\n",
        "plt.xlabel('Iteration')\n",
        "plt.ylabel('Loss')\n",
        "plt.title('Rating Loss, Tag Loss, and Total Loss')\n",
        "plt.legend()\n",
        "plt.show()"
      ],
      "metadata": {
        "colab": {
          "base_uri": "https://localhost:8080/",
          "height": 424
        },
        "id": "JdISE3XOq8Pj",
        "outputId": "ef3d7e21-7e46-4c6b-db1d-3bc0891bb1b5"
      },
      "execution_count": null,
      "outputs": [
        {
          "output_type": "display_data",
          "data": {
            "text/plain": [
              "<Figure size 1000x600 with 1 Axes>"
            ],
            "image/png": "[encoded data removed]"
          },
          "metadata": {}
        }
      ]
    },
    {
      "cell_type": "code",
      "source": [
        "# prompt: write a function that takes in text then runs the model to infer what tags it has the prints out each tag name and its associated probability\n",
        "\n",
        "def infer_tags(text, model, tokenizer, most_frequent_tags, device, threshold=0.5):\n",
        "  \"\"\"\n",
        "  Infers tags for a given text using the trained model.\n",
        "\n",
        "  Args:\n",
        "    text: The input text.\n",
        "    model: The trained model.\n",
        "    tokenizer: The tokenizer used for the model.\n",
        "    most_frequent_tags: A list of the most frequent tags.\n",
        "    device: The device (CPU or GPU) to use.\n",
        "    threshold: The probability threshold for considering a tag to be present.\n",
        "\n",
        "  Returns:\n",
        "    A list of tuples, where each tuple contains a tag name and its probability.\n",
        "  \"\"\"\n",
        "\n",
        "  model.eval()  # Set the model to evaluation mode\n",
        "  with torch.no_grad():\n",
        "    inputs = tokenizer(text, truncation=True, padding=True, max_length=MAXLEN, return_tensors=\"pt\").to(device)\n",
        "    tag_pred = model(**inputs)\n",
        "    tag_probs = torch.sigmoid(tag_pred)  # Apply sigmoid to get probabilities\n",
        "\n",
        "    tag_probs = tag_probs.cpu().numpy().tolist()[0]  # Convert to list\n",
        "\n",
        "    tag_results = []\n",
        "    for i, prob in enumerate(tag_probs):\n",
        "      if prob >= threshold:\n",
        "        tag_results.append((list(most_frequent_tags)[i], prob))\n",
        "\n",
        "    return tag_results\n",
        "\n",
        "\n",
        "\n",
        "# Example usage:\n",
        "text_to_infer = \"Write a function to calculate the sum of two numbers.\"\n",
        "tag_results = infer_tags(text_to_infer, model, tokenizer, most_frequent_tags, device)\n",
        "\n",
        "for tag, prob in tag_results:\n",
        "  print(f\"Tag: {tag}, Probability: {prob:.4f}\")"
      ],
      "metadata": {
        "id": "_MQ0WgXg8Svg"
      },
      "execution_count": null,
      "outputs": []
    }
  ]
}