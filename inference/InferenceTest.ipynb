{
 "cells": [
  {
   "cell_type": "code",
   "execution_count": 13,
   "id": "bb29ae49-d0fa-41df-a11c-7a14bb502772",
   "metadata": {},
   "outputs": [],
   "source": [
    "import pandas as pd \n",
    "import numpy as np \n",
    "import torch \n",
    "import torch.nn as nn\n",
    "import torch.nn.init as init\n",
    "from transformers import BertModel, BertTokenizer"
   ]
  },
  {
   "cell_type": "markdown",
   "id": "03abca9d-466a-4b37-9ee9-74c0d377d19d",
   "metadata": {},
   "source": [
    "We load our model below."
   ]
  },
  {
   "cell_type": "code",
   "execution_count": 9,
   "id": "0bbe5491-dcce-4cf1-9368-67db1e244afe",
   "metadata": {},
   "outputs": [],
   "source": [
    "n = 25\n",
    "\n",
    "class TagModel(nn.Module):\n",
    "    def __init__(self):\n",
    "        super(TagModel, self).__init__()\n",
    "        self.bert = BertModel.from_pretrained('prajjwal1/bert-small')\n",
    "        self.dropout = nn.Dropout(0.4)  # Experiment with dropout rate (e.g., 0.1-0.5)\n",
    "        self.tag_classifier = nn.Sequential(\n",
    "            nn.Linear(512, n),  # Your original linear layer\n",
    "            nn.LayerNorm(n)   # Layer Normalization layer\n",
    "        )\n",
    "\n",
    "    def forward(self, input_ids, attention_mask):\n",
    "        outputs = self.bert(input_ids=input_ids, attention_mask=attention_mask)\n",
    "        pooled_output = outputs.pooler_output\n",
    "        pooled_output = self.dropout(pooled_output)  # Apply dropout\n",
    "        tag_pred = self.tag_classifier(pooled_output)\n",
    "        return tag_pred"
   ]
  },
  {
   "cell_type": "code",
   "execution_count": 11,
   "id": "cfa93a54-2797-42ca-9977-28a6aace0d6e",
   "metadata": {},
   "outputs": [
    {
     "data": {
      "text/plain": [
       "TagModel(\n",
       "  (bert): BertModel(\n",
       "    (embeddings): BertEmbeddings(\n",
       "      (word_embeddings): Embedding(30522, 512, padding_idx=0)\n",
       "      (position_embeddings): Embedding(512, 512)\n",
       "      (token_type_embeddings): Embedding(2, 512)\n",
       "      (LayerNorm): LayerNorm((512,), eps=1e-12, elementwise_affine=True)\n",
       "      (dropout): Dropout(p=0.1, inplace=False)\n",
       "    )\n",
       "    (encoder): BertEncoder(\n",
       "      (layer): ModuleList(\n",
       "        (0-3): 4 x BertLayer(\n",
       "          (attention): BertAttention(\n",
       "            (self): BertSdpaSelfAttention(\n",
       "              (query): Linear(in_features=512, out_features=512, bias=True)\n",
       "              (key): Linear(in_features=512, out_features=512, bias=True)\n",
       "              (value): Linear(in_features=512, out_features=512, bias=True)\n",
       "              (dropout): Dropout(p=0.1, inplace=False)\n",
       "            )\n",
       "            (output): BertSelfOutput(\n",
       "              (dense): Linear(in_features=512, out_features=512, bias=True)\n",
       "              (LayerNorm): LayerNorm((512,), eps=1e-12, elementwise_affine=True)\n",
       "              (dropout): Dropout(p=0.1, inplace=False)\n",
       "            )\n",
       "          )\n",
       "          (intermediate): BertIntermediate(\n",
       "            (dense): Linear(in_features=512, out_features=2048, bias=True)\n",
       "            (intermediate_act_fn): GELUActivation()\n",
       "          )\n",
       "          (output): BertOutput(\n",
       "            (dense): Linear(in_features=2048, out_features=512, bias=True)\n",
       "            (LayerNorm): LayerNorm((512,), eps=1e-12, elementwise_affine=True)\n",
       "            (dropout): Dropout(p=0.1, inplace=False)\n",
       "          )\n",
       "        )\n",
       "      )\n",
       "    )\n",
       "    (pooler): BertPooler(\n",
       "      (dense): Linear(in_features=512, out_features=512, bias=True)\n",
       "      (activation): Tanh()\n",
       "    )\n",
       "  )\n",
       "  (dropout): Dropout(p=0.4, inplace=False)\n",
       "  (tag_classifier): Sequential(\n",
       "    (0): Linear(in_features=512, out_features=25, bias=True)\n",
       "    (1): LayerNorm((25,), eps=1e-05, elementwise_affine=True)\n",
       "  )\n",
       ")"
      ]
     },
     "execution_count": 11,
     "metadata": {},
     "output_type": "execute_result"
    }
   ],
   "source": [
    "model = TagModel()\n",
    "model.load_state_dict(torch.load(\"../models/exp_LR_OldData.pth\", map_location = torch.device('cpu'), weights_only = True))\n",
    "model.eval()"
   ]
  },
  {
   "cell_type": "code",
   "execution_count": 14,
   "id": "39c1687a-ad05-48d6-ad30-6233fe9a6cec",
   "metadata": {},
   "outputs": [
    {
     "data": {
      "application/vnd.jupyter.widget-view+json": {
       "model_id": "8010032a26f04bd290dff94f99d28e6e",
       "version_major": 2,
       "version_minor": 0
      },
      "text/plain": [
       "tokenizer_config.json:   0%|          | 0.00/48.0 [00:00<?, ?B/s]"
      ]
     },
     "metadata": {},
     "output_type": "display_data"
    },
    {
     "name": "stderr",
     "output_type": "stream",
     "text": [
      "C:\\Users\\nilay\\Python\\lib\\site-packages\\huggingface_hub\\file_download.py:139: UserWarning: `huggingface_hub` cache-system uses symlinks by default to efficiently store duplicated files but your machine does not support them in C:\\Users\\nilay\\.cache\\huggingface\\hub\\models--bert-base-uncased. Caching files will still work but in a degraded version that might require more space on your disk. This warning can be disabled by setting the `HF_HUB_DISABLE_SYMLINKS_WARNING` environment variable. For more details, see https://huggingface.co/docs/huggingface_hub/how-to-cache#limitations.\n",
      "To support symlinks on Windows, you either need to activate Developer Mode or to run Python as an administrator. In order to activate developer mode, see this article: https://docs.microsoft.com/en-us/windows/apps/get-started/enable-your-device-for-development\n",
      "  warnings.warn(message)\n"
     ]
    },
    {
     "data": {
      "application/vnd.jupyter.widget-view+json": {
       "model_id": "e79bc4768bde4b5a96fd677d23caced4",
       "version_major": 2,
       "version_minor": 0
      },
      "text/plain": [
       "vocab.txt:   0%|          | 0.00/232k [00:00<?, ?B/s]"
      ]
     },
     "metadata": {},
     "output_type": "display_data"
    },
    {
     "data": {
      "application/vnd.jupyter.widget-view+json": {
       "model_id": "b064b97afded41179a796af3b3c07e9f",
       "version_major": 2,
       "version_minor": 0
      },
      "text/plain": [
       "tokenizer.json:   0%|          | 0.00/466k [00:00<?, ?B/s]"
      ]
     },
     "metadata": {},
     "output_type": "display_data"
    },
    {
     "data": {
      "application/vnd.jupyter.widget-view+json": {
       "model_id": "c4ff046ae24c4187800366b626fa5fa2",
       "version_major": 2,
       "version_minor": 0
      },
      "text/plain": [
       "config.json:   0%|          | 0.00/570 [00:00<?, ?B/s]"
      ]
     },
     "metadata": {},
     "output_type": "display_data"
    }
   ],
   "source": [
    "test_statement = \"\"\"\n",
    "You are given two strings s and t. In one operation, you can delete all the odd-indexed characters from s or all the even-indexed characters from s\n",
    "\n",
    ".\n",
    "\n",
    "For example, if you perform an operation on the string abcdefg, you could choose to turn it into aceg or bdf.\n",
    "\n",
    "After performing any number of operations on s\n",
    "(including zero), is it possible for s to equal t?\n",
    "\"\"\"\n",
    "\n",
    "# Tokenizer stuff\n",
    "MAXLEN = 512\n",
    "tokenizer = BertTokenizer.from_pretrained('bert-base-uncased')\n",
    "def tokenize_text(text):\n",
    "  return tokenizer(text, padding='max_length', truncation=True, max_length=MAXLEN)"
   ]
  },
  {
   "cell_type": "code",
   "execution_count": null,
   "id": "b82fac3e-5391-44a3-a15a-e0cf0f161cb5",
   "metadata": {},
   "outputs": [],
   "source": []
  }
 ],
 "metadata": {
  "kernelspec": {
   "display_name": "Python 3 (ipykernel)",
   "language": "python",
   "name": "python3"
  },
  "language_info": {
   "codemirror_mode": {
    "name": "ipython",
    "version": 3
   },
   "file_extension": ".py",
   "mimetype": "text/x-python",
   "name": "python",
   "nbconvert_exporter": "python",
   "pygments_lexer": "ipython3",
   "version": "3.10.2"
  },
  "widgets": {
   "application/vnd.jupyter.widget-state+json": {
    "state": {
     "01b83fb41e6c45e593ba180f55b7de82": {
      "model_module": "@jupyter-widgets/base",
      "model_module_version": "2.0.0",
      "model_name": "LayoutModel",
      "state": {}
     },
     "081ae923d6554fdc9e2ccea628f70b1e": {
      "model_module": "@jupyter-widgets/controls",
      "model_module_version": "2.0.0",
      "model_name": "HTMLModel",
      "state": {
       "layout": "IPY_MODEL_32f00dbf2cc546a8bcd891ac592f7290",
       "style": "IPY_MODEL_c6e75053c287454b9f6b542b48bd898c",
       "value": "config.json: 100%"
      }
     },
     "0aabe1a8fa1e4688bc7a944dcbf9e034": {
      "model_module": "@jupyter-widgets/controls",
      "model_module_version": "2.0.0",
      "model_name": "HTMLStyleModel",
      "state": {
       "description_width": "",
       "font_size": null,
       "text_color": null
      }
     },
     "0c32ce6cc63d48eebb58c4ea39782315": {
      "model_module": "@jupyter-widgets/base",
      "model_module_version": "2.0.0",
      "model_name": "LayoutModel",
      "state": {}
     },
     "0fc87956a34347cea537bc55e04b321a": {
      "model_module": "@jupyter-widgets/controls",
      "model_module_version": "2.0.0",
      "model_name": "HTMLModel",
      "state": {
       "layout": "IPY_MODEL_95f751b0a84b4bb198c11c1c0378fc10",
       "style": "IPY_MODEL_0aabe1a8fa1e4688bc7a944dcbf9e034",
       "value": "tokenizer_config.json: 100%"
      }
     },
     "10aef27e67b04acbae5880b9d5cf2ebc": {
      "model_module": "@jupyter-widgets/controls",
      "model_module_version": "2.0.0",
      "model_name": "HTMLModel",
      "state": {
       "layout": "IPY_MODEL_c8c74c92be074fd4a93638beebb1b6ba",
       "style": "IPY_MODEL_6b4da1ed6521475e9c9c129c27b68971",
       "value": "config.json: 100%"
      }
     },
     "10d76171c76d4ac6ab5f6796511deed5": {
      "model_module": "@jupyter-widgets/controls",
      "model_module_version": "2.0.0",
      "model_name": "HTMLModel",
      "state": {
       "layout": "IPY_MODEL_1b74f7fd6f804bde8e78ba5a99d1aaed",
       "style": "IPY_MODEL_1b68f6513b694870b649caf8d5756833",
       "value": " 286/286 [00:00&lt;00:00, 13.4kB/s]"
      }
     },
     "11918ac4528c4010a726e2a8dfd93e41": {
      "model_module": "@jupyter-widgets/base",
      "model_module_version": "2.0.0",
      "model_name": "LayoutModel",
      "state": {}
     },
     "12bcfdb30fff4ad99583635eb3a238a8": {
      "model_module": "@jupyter-widgets/controls",
      "model_module_version": "2.0.0",
      "model_name": "HTMLModel",
      "state": {
       "layout": "IPY_MODEL_8b1b67ae312c466e838c5f64019d4979",
       "style": "IPY_MODEL_9288e0f147984124b43789c2c5e0d23f",
       "value": "pytorch_model.bin: 100%"
      }
     },
     "175484cdd5994e6088c0c1bca2481723": {
      "model_module": "@jupyter-widgets/base",
      "model_module_version": "2.0.0",
      "model_name": "LayoutModel",
      "state": {}
     },
     "18d1b122e1244f4fbc4999bba5fc2f69": {
      "model_module": "@jupyter-widgets/base",
      "model_module_version": "2.0.0",
      "model_name": "LayoutModel",
      "state": {}
     },
     "19bf790057fb46d8afbb1ec6a930df31": {
      "model_module": "@jupyter-widgets/controls",
      "model_module_version": "2.0.0",
      "model_name": "FloatProgressModel",
      "state": {
       "bar_style": "success",
       "layout": "IPY_MODEL_8aefcd6834714d2daf7e2cb9b17c96b9",
       "max": 570,
       "style": "IPY_MODEL_84067f7ce09747f1ab79a039b981c1c0",
       "value": 570
      }
     },
     "1b68f6513b694870b649caf8d5756833": {
      "model_module": "@jupyter-widgets/controls",
      "model_module_version": "2.0.0",
      "model_name": "HTMLStyleModel",
      "state": {
       "description_width": "",
       "font_size": null,
       "text_color": null
      }
     },
     "1b74f7fd6f804bde8e78ba5a99d1aaed": {
      "model_module": "@jupyter-widgets/base",
      "model_module_version": "2.0.0",
      "model_name": "LayoutModel",
      "state": {}
     },
     "1f75836cb6ec415faf57d5607486b2f5": {
      "model_module": "@jupyter-widgets/base",
      "model_module_version": "2.0.0",
      "model_name": "LayoutModel",
      "state": {}
     },
     "2aef0f1b8bcd437397db163516e832ed": {
      "model_module": "@jupyter-widgets/controls",
      "model_module_version": "2.0.0",
      "model_name": "HTMLStyleModel",
      "state": {
       "description_width": "",
       "font_size": null,
       "text_color": null
      }
     },
     "2ba1bce9f9a14a978320fa69e718d651": {
      "model_module": "@jupyter-widgets/controls",
      "model_module_version": "2.0.0",
      "model_name": "HBoxModel",
      "state": {
       "children": [
        "IPY_MODEL_12bcfdb30fff4ad99583635eb3a238a8",
        "IPY_MODEL_873fd55507b7468299acb4522756cd4e",
        "IPY_MODEL_839f322f00f543fea5acb22fffd7d3ab"
       ],
       "layout": "IPY_MODEL_e24ee7e8ec754536886442b139261485"
      }
     },
     "32f00dbf2cc546a8bcd891ac592f7290": {
      "model_module": "@jupyter-widgets/base",
      "model_module_version": "2.0.0",
      "model_name": "LayoutModel",
      "state": {}
     },
     "366f1cf78a674bd7a96c6016235bdbaf": {
      "model_module": "@jupyter-widgets/controls",
      "model_module_version": "2.0.0",
      "model_name": "HTMLStyleModel",
      "state": {
       "description_width": "",
       "font_size": null,
       "text_color": null
      }
     },
     "41026300aab44f389cd6f49690a8ce01": {
      "model_module": "@jupyter-widgets/controls",
      "model_module_version": "2.0.0",
      "model_name": "HTMLModel",
      "state": {
       "layout": "IPY_MODEL_11918ac4528c4010a726e2a8dfd93e41",
       "style": "IPY_MODEL_2aef0f1b8bcd437397db163516e832ed",
       "value": " 570/570 [00:00&lt;00:00, 20.3kB/s]"
      }
     },
     "4869f07325144b7f96ba86a6d21c3f63": {
      "model_module": "@jupyter-widgets/base",
      "model_module_version": "2.0.0",
      "model_name": "LayoutModel",
      "state": {}
     },
     "4d377b9cd18849d1b3271f4db76c8ac7": {
      "model_module": "@jupyter-widgets/controls",
      "model_module_version": "2.0.0",
      "model_name": "ProgressStyleModel",
      "state": {
       "description_width": ""
      }
     },
     "58027af2d4904c44bb90f5e780beca30": {
      "model_module": "@jupyter-widgets/controls",
      "model_module_version": "2.0.0",
      "model_name": "FloatProgressModel",
      "state": {
       "bar_style": "success",
       "layout": "IPY_MODEL_db2879f26852490fbcd14d83dcf228bf",
       "max": 466062,
       "style": "IPY_MODEL_7e614163021540bca0773efd2716123d",
       "value": 466062
      }
     },
     "6b4da1ed6521475e9c9c129c27b68971": {
      "model_module": "@jupyter-widgets/controls",
      "model_module_version": "2.0.0",
      "model_name": "HTMLStyleModel",
      "state": {
       "description_width": "",
       "font_size": null,
       "text_color": null
      }
     },
     "7e614163021540bca0773efd2716123d": {
      "model_module": "@jupyter-widgets/controls",
      "model_module_version": "2.0.0",
      "model_name": "ProgressStyleModel",
      "state": {
       "description_width": ""
      }
     },
     "8010032a26f04bd290dff94f99d28e6e": {
      "model_module": "@jupyter-widgets/controls",
      "model_module_version": "2.0.0",
      "model_name": "HBoxModel",
      "state": {
       "children": [
        "IPY_MODEL_0fc87956a34347cea537bc55e04b321a",
        "IPY_MODEL_cccf22a94ab944379bb6444f9f49e38c",
        "IPY_MODEL_bf9e6aa88dd84403b59a62145c9d54eb"
       ],
       "layout": "IPY_MODEL_97ae7ba011db4186a58a4fac9777de10"
      }
     },
     "839f322f00f543fea5acb22fffd7d3ab": {
      "model_module": "@jupyter-widgets/controls",
      "model_module_version": "2.0.0",
      "model_name": "HTMLModel",
      "state": {
       "layout": "IPY_MODEL_0c32ce6cc63d48eebb58c4ea39782315",
       "style": "IPY_MODEL_d34f8aee13164bb88525b46e63147398",
       "value": " 116M/116M [00:03&lt;00:00, 39.5MB/s]"
      }
     },
     "84067f7ce09747f1ab79a039b981c1c0": {
      "model_module": "@jupyter-widgets/controls",
      "model_module_version": "2.0.0",
      "model_name": "ProgressStyleModel",
      "state": {
       "description_width": ""
      }
     },
     "873fd55507b7468299acb4522756cd4e": {
      "model_module": "@jupyter-widgets/controls",
      "model_module_version": "2.0.0",
      "model_name": "FloatProgressModel",
      "state": {
       "bar_style": "success",
       "layout": "IPY_MODEL_175484cdd5994e6088c0c1bca2481723",
       "max": 116270890,
       "style": "IPY_MODEL_b14865cfd7fc4abd92949636e3ed51a3",
       "value": 116270890
      }
     },
     "8aefcd6834714d2daf7e2cb9b17c96b9": {
      "model_module": "@jupyter-widgets/base",
      "model_module_version": "2.0.0",
      "model_name": "LayoutModel",
      "state": {}
     },
     "8b1b67ae312c466e838c5f64019d4979": {
      "model_module": "@jupyter-widgets/base",
      "model_module_version": "2.0.0",
      "model_name": "LayoutModel",
      "state": {}
     },
     "916e4c9f0724468fb103ee4ebb0cb1ca": {
      "model_module": "@jupyter-widgets/controls",
      "model_module_version": "2.0.0",
      "model_name": "HTMLModel",
      "state": {
       "layout": "IPY_MODEL_91e4733e32ed44c49c705a19ca619ef6",
       "style": "IPY_MODEL_b6386b2ebbb14ca791141c5c746dfe10",
       "value": "vocab.txt: 100%"
      }
     },
     "91e4733e32ed44c49c705a19ca619ef6": {
      "model_module": "@jupyter-widgets/base",
      "model_module_version": "2.0.0",
      "model_name": "LayoutModel",
      "state": {}
     },
     "9288e0f147984124b43789c2c5e0d23f": {
      "model_module": "@jupyter-widgets/controls",
      "model_module_version": "2.0.0",
      "model_name": "HTMLStyleModel",
      "state": {
       "description_width": "",
       "font_size": null,
       "text_color": null
      }
     },
     "95f751b0a84b4bb198c11c1c0378fc10": {
      "model_module": "@jupyter-widgets/base",
      "model_module_version": "2.0.0",
      "model_name": "LayoutModel",
      "state": {}
     },
     "97ae7ba011db4186a58a4fac9777de10": {
      "model_module": "@jupyter-widgets/base",
      "model_module_version": "2.0.0",
      "model_name": "LayoutModel",
      "state": {}
     },
     "9cde24edffd84b828231a5352360bfd8": {
      "model_module": "@jupyter-widgets/base",
      "model_module_version": "2.0.0",
      "model_name": "LayoutModel",
      "state": {}
     },
     "9f74f1732fb64d0b8e3a5abdb640d6eb": {
      "model_module": "@jupyter-widgets/base",
      "model_module_version": "2.0.0",
      "model_name": "LayoutModel",
      "state": {}
     },
     "a40cbb52bb0f477a9b33421f889d7879": {
      "model_module": "@jupyter-widgets/base",
      "model_module_version": "2.0.0",
      "model_name": "LayoutModel",
      "state": {}
     },
     "aa4fc8995d2944fb8d6f8dd417489c29": {
      "model_module": "@jupyter-widgets/controls",
      "model_module_version": "2.0.0",
      "model_name": "HTMLStyleModel",
      "state": {
       "description_width": "",
       "font_size": null,
       "text_color": null
      }
     },
     "b064b97afded41179a796af3b3c07e9f": {
      "model_module": "@jupyter-widgets/controls",
      "model_module_version": "2.0.0",
      "model_name": "HBoxModel",
      "state": {
       "children": [
        "IPY_MODEL_fe296b8a364e4c55ac331b7c21e8e263",
        "IPY_MODEL_58027af2d4904c44bb90f5e780beca30",
        "IPY_MODEL_b527072b7cd343748eb712b205df7e40"
       ],
       "layout": "IPY_MODEL_c93c94bb44134f019c89004b83823077"
      }
     },
     "b14865cfd7fc4abd92949636e3ed51a3": {
      "model_module": "@jupyter-widgets/controls",
      "model_module_version": "2.0.0",
      "model_name": "ProgressStyleModel",
      "state": {
       "description_width": ""
      }
     },
     "b3f31bfbd903408f9f9f7726bcf5cdba": {
      "model_module": "@jupyter-widgets/base",
      "model_module_version": "2.0.0",
      "model_name": "LayoutModel",
      "state": {}
     },
     "b527072b7cd343748eb712b205df7e40": {
      "model_module": "@jupyter-widgets/controls",
      "model_module_version": "2.0.0",
      "model_name": "HTMLModel",
      "state": {
       "layout": "IPY_MODEL_9f74f1732fb64d0b8e3a5abdb640d6eb",
       "style": "IPY_MODEL_fac27e62ec4643c59303c9d81f213b12",
       "value": " 466k/466k [00:00&lt;00:00, 7.82MB/s]"
      }
     },
     "b6386b2ebbb14ca791141c5c746dfe10": {
      "model_module": "@jupyter-widgets/controls",
      "model_module_version": "2.0.0",
      "model_name": "HTMLStyleModel",
      "state": {
       "description_width": "",
       "font_size": null,
       "text_color": null
      }
     },
     "bf9e6aa88dd84403b59a62145c9d54eb": {
      "model_module": "@jupyter-widgets/controls",
      "model_module_version": "2.0.0",
      "model_name": "HTMLModel",
      "state": {
       "layout": "IPY_MODEL_4869f07325144b7f96ba86a6d21c3f63",
       "style": "IPY_MODEL_e6647d14a1f6489880546d0931e8bb91",
       "value": " 48.0/48.0 [00:00&lt;00:00, 1.87kB/s]"
      }
     },
     "c3576ab397314069b4c116a976741b31": {
      "model_module": "@jupyter-widgets/controls",
      "model_module_version": "2.0.0",
      "model_name": "ProgressStyleModel",
      "state": {
       "description_width": ""
      }
     },
     "c461364d8c6549cc93f4ab7d919aedcc": {
      "model_module": "@jupyter-widgets/controls",
      "model_module_version": "2.0.0",
      "model_name": "FloatProgressModel",
      "state": {
       "bar_style": "success",
       "layout": "IPY_MODEL_a40cbb52bb0f477a9b33421f889d7879",
       "max": 231508,
       "style": "IPY_MODEL_4d377b9cd18849d1b3271f4db76c8ac7",
       "value": 231508
      }
     },
     "c4906c02080c41caac89d3865adbe9d5": {
      "model_module": "@jupyter-widgets/base",
      "model_module_version": "2.0.0",
      "model_name": "LayoutModel",
      "state": {}
     },
     "c4ff046ae24c4187800366b626fa5fa2": {
      "model_module": "@jupyter-widgets/controls",
      "model_module_version": "2.0.0",
      "model_name": "HBoxModel",
      "state": {
       "children": [
        "IPY_MODEL_10aef27e67b04acbae5880b9d5cf2ebc",
        "IPY_MODEL_19bf790057fb46d8afbb1ec6a930df31",
        "IPY_MODEL_41026300aab44f389cd6f49690a8ce01"
       ],
       "layout": "IPY_MODEL_1f75836cb6ec415faf57d5607486b2f5"
      }
     },
     "c6e75053c287454b9f6b542b48bd898c": {
      "model_module": "@jupyter-widgets/controls",
      "model_module_version": "2.0.0",
      "model_name": "HTMLStyleModel",
      "state": {
       "description_width": "",
       "font_size": null,
       "text_color": null
      }
     },
     "c6fb162a0a6f44c38f3d891ac95a6aca": {
      "model_module": "@jupyter-widgets/controls",
      "model_module_version": "2.0.0",
      "model_name": "HBoxModel",
      "state": {
       "children": [
        "IPY_MODEL_081ae923d6554fdc9e2ccea628f70b1e",
        "IPY_MODEL_cd1004703796472792b13a4e9e86b535",
        "IPY_MODEL_10d76171c76d4ac6ab5f6796511deed5"
       ],
       "layout": "IPY_MODEL_d573826042bd4a91a268672584a13f1f"
      }
     },
     "c8c74c92be074fd4a93638beebb1b6ba": {
      "model_module": "@jupyter-widgets/base",
      "model_module_version": "2.0.0",
      "model_name": "LayoutModel",
      "state": {}
     },
     "c93c94bb44134f019c89004b83823077": {
      "model_module": "@jupyter-widgets/base",
      "model_module_version": "2.0.0",
      "model_name": "LayoutModel",
      "state": {}
     },
     "ca783f8857824829a7966c97cc5c7e55": {
      "model_module": "@jupyter-widgets/controls",
      "model_module_version": "2.0.0",
      "model_name": "ProgressStyleModel",
      "state": {
       "description_width": ""
      }
     },
     "cccf22a94ab944379bb6444f9f49e38c": {
      "model_module": "@jupyter-widgets/controls",
      "model_module_version": "2.0.0",
      "model_name": "FloatProgressModel",
      "state": {
       "bar_style": "success",
       "layout": "IPY_MODEL_01b83fb41e6c45e593ba180f55b7de82",
       "max": 48,
       "style": "IPY_MODEL_ca783f8857824829a7966c97cc5c7e55",
       "value": 48
      }
     },
     "cd1004703796472792b13a4e9e86b535": {
      "model_module": "@jupyter-widgets/controls",
      "model_module_version": "2.0.0",
      "model_name": "FloatProgressModel",
      "state": {
       "bar_style": "success",
       "layout": "IPY_MODEL_c4906c02080c41caac89d3865adbe9d5",
       "max": 286,
       "style": "IPY_MODEL_c3576ab397314069b4c116a976741b31",
       "value": 286
      }
     },
     "d34f8aee13164bb88525b46e63147398": {
      "model_module": "@jupyter-widgets/controls",
      "model_module_version": "2.0.0",
      "model_name": "HTMLStyleModel",
      "state": {
       "description_width": "",
       "font_size": null,
       "text_color": null
      }
     },
     "d573826042bd4a91a268672584a13f1f": {
      "model_module": "@jupyter-widgets/base",
      "model_module_version": "2.0.0",
      "model_name": "LayoutModel",
      "state": {}
     },
     "db2879f26852490fbcd14d83dcf228bf": {
      "model_module": "@jupyter-widgets/base",
      "model_module_version": "2.0.0",
      "model_name": "LayoutModel",
      "state": {}
     },
     "df1ff27a05d040b5b44c22447b3d5d00": {
      "model_module": "@jupyter-widgets/controls",
      "model_module_version": "2.0.0",
      "model_name": "HTMLModel",
      "state": {
       "layout": "IPY_MODEL_9cde24edffd84b828231a5352360bfd8",
       "style": "IPY_MODEL_aa4fc8995d2944fb8d6f8dd417489c29",
       "value": " 232k/232k [00:00&lt;00:00, 2.89MB/s]"
      }
     },
     "e24ee7e8ec754536886442b139261485": {
      "model_module": "@jupyter-widgets/base",
      "model_module_version": "2.0.0",
      "model_name": "LayoutModel",
      "state": {}
     },
     "e6647d14a1f6489880546d0931e8bb91": {
      "model_module": "@jupyter-widgets/controls",
      "model_module_version": "2.0.0",
      "model_name": "HTMLStyleModel",
      "state": {
       "description_width": "",
       "font_size": null,
       "text_color": null
      }
     },
     "e79bc4768bde4b5a96fd677d23caced4": {
      "model_module": "@jupyter-widgets/controls",
      "model_module_version": "2.0.0",
      "model_name": "HBoxModel",
      "state": {
       "children": [
        "IPY_MODEL_916e4c9f0724468fb103ee4ebb0cb1ca",
        "IPY_MODEL_c461364d8c6549cc93f4ab7d919aedcc",
        "IPY_MODEL_df1ff27a05d040b5b44c22447b3d5d00"
       ],
       "layout": "IPY_MODEL_b3f31bfbd903408f9f9f7726bcf5cdba"
      }
     },
     "fac27e62ec4643c59303c9d81f213b12": {
      "model_module": "@jupyter-widgets/controls",
      "model_module_version": "2.0.0",
      "model_name": "HTMLStyleModel",
      "state": {
       "description_width": "",
       "font_size": null,
       "text_color": null
      }
     },
     "fe296b8a364e4c55ac331b7c21e8e263": {
      "model_module": "@jupyter-widgets/controls",
      "model_module_version": "2.0.0",
      "model_name": "HTMLModel",
      "state": {
       "layout": "IPY_MODEL_18d1b122e1244f4fbc4999bba5fc2f69",
       "style": "IPY_MODEL_366f1cf78a674bd7a96c6016235bdbaf",
       "value": "tokenizer.json: 100%"
      }
     }
    },
    "version_major": 2,
    "version_minor": 0
   }
  }
 },
 "nbformat": 4,
 "nbformat_minor": 5
}
