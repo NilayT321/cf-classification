{
 "cells": [
  {
   "cell_type": "code",
   "execution_count": 1,
   "id": "2d801ea2-bd6e-4efb-aaaf-990dd3da6c13",
   "metadata": {},
   "outputs": [],
   "source": [
    "import pandas as pd\n",
    "import numpy as np \n",
    "from sklearn.model_selection import train_test_split"
   ]
  },
  {
   "cell_type": "code",
   "execution_count": 3,
   "id": "bbde56b5-8ec7-4c83-b078-963fd639e7a4",
   "metadata": {},
   "outputs": [],
   "source": [
    "data = pd.read_csv(\"main.csv\", names = [\"index\", \"name\", \"tags\", \"statement\", \"rating\"], sep = \" \")"
   ]
  },
  {
   "cell_type": "code",
   "execution_count": 4,
   "id": "16fd9bf3-b29c-46a3-b30c-401d45349080",
   "metadata": {},
   "outputs": [
    {
     "data": {
      "text/html": [
       "<div>\n",
       "<style scoped>\n",
       "    .dataframe tbody tr th:only-of-type {\n",
       "        vertical-align: middle;\n",
       "    }\n",
       "\n",
       "    .dataframe tbody tr th {\n",
       "        vertical-align: top;\n",
       "    }\n",
       "\n",
       "    .dataframe thead th {\n",
       "        text-align: right;\n",
       "    }\n",
       "</style>\n",
       "<table border=\"1\" class=\"dataframe\">\n",
       "  <thead>\n",
       "    <tr style=\"text-align: right;\">\n",
       "      <th></th>\n",
       "      <th>index</th>\n",
       "      <th>name</th>\n",
       "      <th>tags</th>\n",
       "      <th>statement</th>\n",
       "      <th>rating</th>\n",
       "    </tr>\n",
       "  </thead>\n",
       "  <tbody>\n",
       "    <tr>\n",
       "      <th>0</th>\n",
       "      <td>1873F</td>\n",
       "      <td>Money Trees</td>\n",
       "      <td>binary search,greedy,math,two pointers</td>\n",
       "      <td>Luca is in front of a row of n trees. The i-th...</td>\n",
       "      <td>1300</td>\n",
       "    </tr>\n",
       "    <tr>\n",
       "      <th>1</th>\n",
       "      <td>1873E</td>\n",
       "      <td>Building an Aquarium</td>\n",
       "      <td>binary search,sortings</td>\n",
       "      <td>You love fish, that\\'s why you have decided to...</td>\n",
       "      <td>1100</td>\n",
       "    </tr>\n",
       "    <tr>\n",
       "      <th>2</th>\n",
       "      <td>1873D</td>\n",
       "      <td>1D Eraser</td>\n",
       "      <td>greedy,implementation,two pointers</td>\n",
       "      <td>You are given a strip of paper s that is n cel...</td>\n",
       "      <td>800</td>\n",
       "    </tr>\n",
       "    <tr>\n",
       "      <th>3</th>\n",
       "      <td>1873C</td>\n",
       "      <td>Target Practice</td>\n",
       "      <td>implementation,math</td>\n",
       "      <td>A 10\\xc3\\x9710 target is made out of five \"rin...</td>\n",
       "      <td>800</td>\n",
       "    </tr>\n",
       "    <tr>\n",
       "      <th>4</th>\n",
       "      <td>1873B</td>\n",
       "      <td>Good Kid</td>\n",
       "      <td>brute force,greedy,math</td>\n",
       "      <td>Slavic is preparing a present for a friend\\'s ...</td>\n",
       "      <td>800</td>\n",
       "    </tr>\n",
       "  </tbody>\n",
       "</table>\n",
       "</div>"
      ],
      "text/plain": [
       "   index                  name                                    tags  \\\n",
       "0  1873F           Money Trees  binary search,greedy,math,two pointers   \n",
       "1  1873E  Building an Aquarium                  binary search,sortings   \n",
       "2  1873D             1D Eraser      greedy,implementation,two pointers   \n",
       "3  1873C       Target Practice                     implementation,math   \n",
       "4  1873B              Good Kid                 brute force,greedy,math   \n",
       "\n",
       "                                           statement  rating  \n",
       "0  Luca is in front of a row of n trees. The i-th...    1300  \n",
       "1  You love fish, that\\'s why you have decided to...    1100  \n",
       "2  You are given a strip of paper s that is n cel...     800  \n",
       "3  A 10\\xc3\\x9710 target is made out of five \"rin...     800  \n",
       "4  Slavic is preparing a present for a friend\\'s ...     800  "
      ]
     },
     "execution_count": 4,
     "metadata": {},
     "output_type": "execute_result"
    }
   ],
   "source": [
    "data.head()"
   ]
  },
  {
   "cell_type": "code",
   "execution_count": 5,
   "id": "da6fc7fd-87b7-40f1-9c79-be685790379d",
   "metadata": {},
   "outputs": [
    {
     "data": {
      "text/plain": [
       "9893"
      ]
     },
     "execution_count": 5,
     "metadata": {},
     "output_type": "execute_result"
    }
   ],
   "source": [
    "data.shape[0]"
   ]
  },
  {
   "cell_type": "code",
   "execution_count": 6,
   "id": "3d222622-78fc-43ff-a3fa-4f79f17c2bdb",
   "metadata": {},
   "outputs": [],
   "source": [
    "data = data.dropna()"
   ]
  },
  {
   "cell_type": "code",
   "execution_count": 7,
   "id": "f857fa32-1be3-4a51-9c44-70bbcdc301a7",
   "metadata": {},
   "outputs": [
    {
     "data": {
      "text/plain": [
       "9695"
      ]
     },
     "execution_count": 7,
     "metadata": {},
     "output_type": "execute_result"
    }
   ],
   "source": [
    "data.shape[0]"
   ]
  },
  {
   "cell_type": "code",
   "execution_count": 14,
   "id": "18d74509-15ec-45bf-bece-0a89a4f90f47",
   "metadata": {},
   "outputs": [],
   "source": [
    "y = data[\"tags\"]\n",
    "X = data[[\"index\", \"name\", \"statement\", \"tags\", \"rating\"]]"
   ]
  },
  {
   "cell_type": "code",
   "execution_count": 24,
   "id": "187f4e56-e37a-4951-88c1-3e3269ed9801",
   "metadata": {},
   "outputs": [],
   "source": [
    "# Create a 70% train and 30% test split\n",
    "data_train, data_temp, _, _ = train_test_split(X, y, train_size = 0.70, shuffle = True)"
   ]
  },
  {
   "cell_type": "code",
   "execution_count": 26,
   "id": "33666664-d934-420e-92dc-871e4bbc9aab",
   "metadata": {},
   "outputs": [
    {
     "name": "stdout",
     "output_type": "stream",
     "text": [
      "6786 2909\n"
     ]
    }
   ],
   "source": [
    "print(data_train.shape[0], data_temp.shape[0])"
   ]
  },
  {
   "cell_type": "code",
   "execution_count": 27,
   "id": "384de708-5871-4095-8761-84405a8c0e7d",
   "metadata": {},
   "outputs": [],
   "source": [
    "# Split the 30% test split into a test and validation \n",
    "X = data_temp[[\"index\", \"name\", \"statement\", \"tags\", \"rating\"]]\n",
    "y = data_temp[\"tags\"]\n",
    "data_valid, data_test, _, _ = train_test_split(X, y, train_size = 0.50, shuffle = True)"
   ]
  },
  {
   "cell_type": "code",
   "execution_count": 29,
   "id": "8810c302-3622-4771-acef-4b236782ddc5",
   "metadata": {},
   "outputs": [
    {
     "name": "stdout",
     "output_type": "stream",
     "text": [
      "6786 1454 1455\n"
     ]
    }
   ],
   "source": [
    "print(data_train.shape[0], data_valid.shape[0], data_test.shape[0])"
   ]
  },
  {
   "cell_type": "code",
   "execution_count": 32,
   "id": "924d6434-df5e-466e-b9d8-b54768e56d3d",
   "metadata": {},
   "outputs": [],
   "source": [
    "# Write it out to a file\n",
    "data.to_csv(\"main.csv\", index = False, sep = \" \")\n",
    "data_train.to_csv(\"training.csv\", index = False, sep = \" \")\n",
    "data_valid.to_csv(\"validation.csv\", index = False, sep = \" \")\n",
    "data_test.to_csv(\"testing.csv\", index = False, sep = \" \")"
   ]
  },
  {
   "cell_type": "code",
   "execution_count": null,
   "id": "2429043f-1b69-4658-a93a-8a87fa827a35",
   "metadata": {},
   "outputs": [],
   "source": []
  }
 ],
 "metadata": {
  "kernelspec": {
   "display_name": "Python 3 (ipykernel)",
   "language": "python",
   "name": "python3"
  },
  "language_info": {
   "codemirror_mode": {
    "name": "ipython",
    "version": 3
   },
   "file_extension": ".py",
   "mimetype": "text/x-python",
   "name": "python",
   "nbconvert_exporter": "python",
   "pygments_lexer": "ipython3",
   "version": "3.10.2"
  },
  "widgets": {
   "application/vnd.jupyter.widget-state+json": {
    "state": {},
    "version_major": 2,
    "version_minor": 0
   }
  }
 },
 "nbformat": 4,
 "nbformat_minor": 5
}
