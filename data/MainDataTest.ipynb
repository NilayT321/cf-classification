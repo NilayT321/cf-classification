{
 "cells": [
  {
   "cell_type": "code",
   "execution_count": 1,
   "id": "565500ac-0fac-4dc9-ad14-ed157e54129e",
   "metadata": {},
   "outputs": [],
   "source": [
    "import numpy as np\n",
    "import pandas as pd"
   ]
  },
  {
   "cell_type": "code",
   "execution_count": 13,
   "id": "51799eff-00f0-4d53-a4fc-bd188cb01117",
   "metadata": {},
   "outputs": [],
   "source": [
    "types_dict = {\"index\" : \"str\", \"name\" : \"str\", \"tags\" : \"str\", \"statement\" : \"str\", \"rating\" : \"int\"}"
   ]
  },
  {
   "cell_type": "code",
   "execution_count": 21,
   "id": "d217bdaa-54d8-4f17-b14d-3117f8c05a6f",
   "metadata": {},
   "outputs": [],
   "source": [
    "# Pieces of data \n",
    "probs1_10 = pd.read_csv(\"problems1_10.csv\", names = [\"index\", \"name\", \"tags\", \"statement\", \"rating\"], sep = \" \", dtype = types_dict)\n",
    "probs11_20 = pd.read_csv(\"problems11_20.csv\", names = [\"index\", \"name\", \"tags\", \"statement\", \"rating\"], sep = \" \", dtype = types_dict)\n",
    "probs20 = pd.read_csv(\"problems20.csv\", names = [\"index\", \"name\", \"tags\", \"statement\", \"rating\"], sep = \" \", dtype = types_dict)\n",
    "probs21_30 = pd.read_csv(\"problems21_30.csv\", names = [\"index\", \"name\", \"tags\", \"statement\", \"rating\"], sep = \" \", dtype = types_dict)\n",
    "probs31_40 = pd.read_csv(\"problems31_40.csv\", names = [\"index\", \"name\", \"tags\", \"statement\", \"rating\"], sep = \" \", dtype = types_dict)\n",
    "probs41_50 = pd.read_csv(\"problems41_50.csv\", names = [\"index\", \"name\", \"tags\", \"statement\", \"rating\"], sep = \" \", dtype = types_dict)\n",
    "probs51_60 = pd.read_csv(\"problems51_60.csv\", names = [\"index\", \"name\", \"tags\", \"statement\", \"rating\"], sep = \" \", dtype = types_dict)\n",
    "probs61_70 = pd.read_csv(\"problems61_70.csv\", names = [\"index\", \"name\", \"tags\", \"statement\", \"rating\"], sep = \" \", dtype = types_dict)\n",
    "probs71_80 = pd.read_csv(\"problems71_80.csv\", names = [\"index\", \"name\", \"tags\", \"statement\", \"rating\"], sep = \" \", dtype = types_dict)\n",
    "probs81_90 = pd.read_csv(\"problems81_90.csv\", names = [\"index\", \"name\", \"tags\", \"statement\", \"rating\"], sep = \" \", dtype = types_dict)\n",
    "probs91_100 = pd.read_csv(\"problems91_100.csv\", names = [\"index\", \"name\", \"tags\", \"statement\", \"rating\"], sep = \" \", dtype = types_dict)"
   ]
  },
  {
   "cell_type": "code",
   "execution_count": 29,
   "id": "0f458d0c-1d98-4913-87b3-f73705c4cddb",
   "metadata": {},
   "outputs": [
    {
     "name": "stdout",
     "output_type": "stream",
     "text": [
      "975\n",
      "898\n",
      "100\n",
      "998\n",
      "997\n",
      "997\n",
      "984\n",
      "1000\n",
      "998\n",
      "1000\n",
      "946\n",
      "There are 9893 in total\n"
     ]
    }
   ],
   "source": [
    "unmerged = [probs1_10, probs11_20, probs20, probs21_30, probs31_40, probs41_50, probs51_60, probs61_70, probs71_80, probs81_90, probs91_100]\n",
    "num_rows = [x.shape[0] for x in unmerged]\n",
    "\n",
    "for x in num_rows:\n",
    "    print(x) \n",
    "\n",
    "print(f\"There are {sum(num_rows)} in total\")"
   ]
  },
  {
   "cell_type": "code",
   "execution_count": 19,
   "id": "f6441d50-3833-48c8-b33a-bea9d52502bf",
   "metadata": {},
   "outputs": [],
   "source": [
    "main = pd.read_csv(\"mainData/main.csv\", names = [\"index\", \"name\", \"tags\", \"statement\", \"rating\"], sep = \" \", dtype = types_dict)"
   ]
  },
  {
   "cell_type": "code",
   "execution_count": 25,
   "id": "166518db-18d3-4359-8e4d-ebf2db960632",
   "metadata": {},
   "outputs": [
    {
     "data": {
      "text/plain": [
       "(9893, 5)"
      ]
     },
     "execution_count": 25,
     "metadata": {},
     "output_type": "execute_result"
    }
   ],
   "source": [
    "main.shape"
   ]
  },
  {
   "cell_type": "code",
   "execution_count": null,
   "id": "089e6244-3eb2-4818-adab-ebf6d4a40081",
   "metadata": {},
   "outputs": [],
   "source": []
  }
 ],
 "metadata": {
  "kernelspec": {
   "display_name": "Python 3 (ipykernel)",
   "language": "python",
   "name": "python3"
  },
  "language_info": {
   "codemirror_mode": {
    "name": "ipython",
    "version": 3
   },
   "file_extension": ".py",
   "mimetype": "text/x-python",
   "name": "python",
   "nbconvert_exporter": "python",
   "pygments_lexer": "ipython3",
   "version": "3.10.2"
  }
 },
 "nbformat": 4,
 "nbformat_minor": 5
}
